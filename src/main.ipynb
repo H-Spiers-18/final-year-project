{
 "cells": [
  {
   "cell_type": "code",
   "execution_count": 11,
   "id": "f54762f2",
   "metadata": {},
   "outputs": [],
   "source": [
    "import pandas as pd\n",
    "\n",
    "from data import Dataset, get_transfer_dataset\n",
    "from learner import PredictorLearner, TransferLearner\n",
    "import analysis as a\n",
    "\n",
    "# initialise \n",
    "rq1_results_fields = ['mse_accuracy_src_no_cv', 'mape_accuracy_src_no_cv', 'mse_accuracy_src_cv', 'mape_accuracy_src_cv',\n",
    "                     'mse_accuracy_tgt_no_cv', 'mape_accuracy_tgt_no_cv', 'mse_accuracy_tgt_cv', 'mape_accuracy_tgt_cv',\n",
    "                     'mse_accuracy_trans_no_cv', 'mape_accuracy_trans_no_cv', 'mse_accuracy_trans_cv', 'mape_accuracy_trans_cv']\n",
    "rq1_results = pd.DataFrame(columns=rq1_results_fields)\n",
    "rq2_results_fields = ['mse_accuracy_20pct', 'mse_accuracy_40pct', 'mse_accuracy_60pct', 'mse_accuracy_80pct',\n",
    "                     'mape_accuracy_20pct', 'mape_accuracy_40pct', 'mape_accuracy_60pct', 'mape_accuracy_80pct']\n",
    "rq2_results = pd.DataFrame(columns=rq2_results_fields)\n",
    "rq3_results_fields = ['training_time_pred_20pct_no_cv', 'training_time_pred_40pct_no_cv', 'training_time_pred_60pct_no_cv', \n",
    "                     'training_time_pred_80pct_no_cv', 'training_time_pred_20pct_cv', 'training_time_pred_40pct_cv', \n",
    "                     'training_time_pred_60pct_cv', 'training_time_pred_80pct_cv', 'training_time_tran_20pct_no_cv', \n",
    "                     'training_time_tran_40pct_no_cv', 'training_time_tran_60pct_no_cv', 'training_time_tran_80pct_no_cv', \n",
    "                     'training_time_tran_20pct_cv', 'training_time_tran_40pct_cv', 'training_time_tran_60pct_cv', \n",
    "                     'training_time_tran_80pct_cv']\n",
    "rq3_results = pd.DataFrame(columns=rq3_results_fields)\n",
    "\n",
    "dataset_nodejs = Dataset('../dataset/nodejs/43/buffer1.csv', 'nodejs')\n",
    "dataset_poppler = Dataset('../dataset/poppler/12/cuda.csv', 'poppler')\n",
    "dataset_x264_src = Dataset('../dataset/x264/43/original_videos_Animation_480P_Animation_480P-087e.csv', 'x264')\n",
    "dataset_x264_target = Dataset('../dataset/x264/44/original_videos_Animation_480P_Animation_480P-087e.csv', 'x264')\n",
    "dataset_xz = Dataset('../dataset/xz/23/dickens.csv', 'xz')"
   ]
  },
  {
   "cell_type": "code",
   "execution_count": 8,
   "id": "140d8ee7",
   "metadata": {},
   "outputs": [
    {
     "name": "stdout",
     "output_type": "stream",
     "text": [
      "[array([-0.10863496, -0.26705976, -0.26830512, -0.16817388, -0.36554945])]\n",
      "[array([-0.44327345, -0.5046296 , -0.380163  , -0.47154408, -0.45512598])]\n"
     ]
    }
   ],
   "source": [
    "### RQ1\n",
    "\n",
    "predictor_errors = []\n",
    "transfer_errors = []\n",
    "\n",
    "X_train, X_validate, y_train, y_validate = dataset_x264_target.get_split_dataset()\n",
    "predictor = PredictorLearner()\n",
    "optimised_model, _ = predictor.get_optimal_params(X_validate, y_validate)\n",
    "predictor.fit(X_train, y_train, premade_model=optimised_model)\n",
    "predictor_errors.append(predictor.get_error(X_train, y_train))\n",
    "\n",
    "X_train, X_validate, y_train, y_validate = get_transfer_dataset(dataset_x264_src, dataset_x264_target)\n",
    "transferrer = TransferLearner()\n",
    "optimised_model, _ = transferrer.get_optimal_params(X_validate, y_validate)\n",
    "transferrer.fit(X_train, y_train, premade_model=optimised_model)\n",
    "transfer_errors.append(transferrer.get_error(X_train, y_train))\n",
    "\n",
    "print(predictor_errors)\n",
    "print(transfer_errors)"
   ]
  },
  {
   "cell_type": "code",
   "execution_count": 9,
   "id": "12dea000",
   "metadata": {},
   "outputs": [
    {
     "name": "stdout",
     "output_type": "stream",
     "text": [
      "[0.20999813079833984]\n",
      "[0.0]\n",
      "[0.0009999275207519531]\n",
      "[0.0]\n"
     ]
    }
   ],
   "source": [
    "### RQ3\n",
    "\n",
    "predictor_training_times_no_cv = []\n",
    "transfer_training_times_no_cv = []\n",
    "predictor_training_times = []\n",
    "transfer_training_times = []\n",
    "\n",
    "# get 80/20 split dataset\n",
    "X_train, X_validate, y_train, y_validate = dataset_x264_target.get_split_dataset()\n",
    "predictor = PredictorLearner()\n",
    "# optimise model using grid search cross validation\n",
    "optimised_model, _ = predictor.get_optimal_params(X_validate, y_validate)\n",
    "predictor.fit(X_train, y_train, premade_model=optimised_model)\n",
    "# record results\n",
    "predictor_training_times_no_cv.append(predictor.get_training_time())\n",
    "predictor_training_times.append(predictor.get_training_time(include_optimisation_time=True))\n",
    "\n",
    "# get 80/20 split dataset\n",
    "X_train, X_validate, y_train, y_validate = get_transfer_dataset(dataset_x264_src, dataset_x264_target)\n",
    "transferrer = TransferLearner()\n",
    "# optimise model using grid search cross validation\n",
    "optimised_model, _ = transferrer.get_optimal_params(X_validate, y_validate)\n",
    "transferrer.fit(X_train, y_train, premade_model=optimised_model)\n",
    "# record results\n",
    "transfer_training_times_no_cv.append(transferrer.get_training_time())\n",
    "transfer_training_times.append(transferrer.get_training_time(include_optimisation_time=True))\n",
    "\n",
    "print(predictor_training_times)\n",
    "print(transfer_training_times)\n",
    "print(predictor_training_times_no_cv)\n",
    "print(transfer_training_times_no_cv)"
   ]
  },
  {
   "cell_type": "code",
   "execution_count": null,
   "id": "f08e1614",
   "metadata": {},
   "outputs": [],
   "source": []
  }
 ],
 "metadata": {
  "kernelspec": {
   "display_name": ".venv",
   "language": "python",
   "name": ".venv"
  },
  "language_info": {
   "codemirror_mode": {
    "name": "ipython",
    "version": 3
   },
   "file_extension": ".py",
   "mimetype": "text/x-python",
   "name": "python",
   "nbconvert_exporter": "python",
   "pygments_lexer": "ipython3",
   "version": "3.9.9"
  }
 },
 "nbformat": 4,
 "nbformat_minor": 5
}
