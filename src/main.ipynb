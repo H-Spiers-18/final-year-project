{
 "cells": [
  {
   "cell_type": "code",
   "execution_count": 1,
   "id": "f54762f2",
   "metadata": {},
   "outputs": [],
   "source": [
    "from data import Dataset, get_transfer_dataset\n",
    "from learner import PredictorLearner, TransferLearner\n",
    "import analysis as a\n",
    "\n",
    "dataset_nodejs = Dataset('../dataset/nodejs/43/buffer1.csv', 'nodejs')\n",
    "dataset_poppler = Dataset('../dataset/poppler/12/cuda.csv', 'poppler')\n",
    "dataset_x264_src = Dataset('../dataset/x264/43/original_videos_Animation_480P_Animation_480P-087e.csv', 'x264')\n",
    "dataset_x264_target = Dataset('../dataset/x264/44/original_videos_Animation_480P_Animation_480P-087e.csv', 'x264')\n",
    "dataset_xz = Dataset('../dataset/xz/23/dickens.csv', 'xz')"
   ]
  },
  {
   "cell_type": "code",
   "execution_count": 2,
   "id": "140d8ee7",
   "metadata": {},
   "outputs": [
    {
     "name": "stdout",
     "output_type": "stream",
     "text": [
      "[array([-0.13775559, -0.26506531, -0.27697002, -0.26424939, -0.35101336])]\n",
      "[array([-0.44327345, -0.5046296 , -0.380163  , -0.47154408, -0.45512598])]\n"
     ]
    }
   ],
   "source": [
    "### RQ1\n",
    "\n",
    "predictor_errors = []\n",
    "transfer_errors = []\n",
    "\n",
    "X_train, X_validate, y_train, y_validate = dataset_x264_target.get_split_dataset()\n",
    "predictor = PredictorLearner()\n",
    "optimised_model, _ = predictor.get_optimal_params(X_validate, y_validate)\n",
    "predictor.fit(X_train, y_train, premade_model=optimised_model)\n",
    "predictor_errors.append(predictor.get_error(X_train, y_train))\n",
    "\n",
    "X_train, X_validate, y_train, y_validate = get_transfer_dataset(dataset_x264_src, dataset_x264_target)\n",
    "transferrer = TransferLearner()\n",
    "optimised_model, _ = transferrer.get_optimal_params(X_validate, y_validate)\n",
    "transferrer.fit(X_train, y_train, premade_model=optimised_model)\n",
    "transfer_errors.append(transferrer.get_error(X_train, y_train))\n",
    "\n",
    "print(predictor_errors)\n",
    "print(transfer_errors)"
   ]
  },
  {
   "cell_type": "code",
   "execution_count": 3,
   "id": "12dea000",
   "metadata": {},
   "outputs": [
    {
     "name": "stdout",
     "output_type": "stream",
     "text": [
      "[0.21222615242004395]\n",
      "[0.0]\n"
     ]
    }
   ],
   "source": [
    "### RQ3\n",
    "\n",
    "predictor_training_times_no_cv = []\n",
    "transfer_training_times_no_cv = []\n",
    "predictor_training_times = []\n",
    "transfer_training_times = []\n",
    "\n",
    "X_train, X_validate, y_train, y_validate = dataset_x264_target.get_split_dataset()\n",
    "predictor = PredictorLearner()\n",
    "optimised_model, _ = predictor.get_optimal_params(X_validate, y_validate)\n",
    "predictor.fit(X_train, y_train, premade_model=optimised_model)\n",
    "predictor_training_times.append(predictor.get_training_time())\n",
    "\n",
    "X_train, X_validate, y_train, y_validate = get_transfer_dataset(dataset_x264_src, dataset_x264_target)\n",
    "transferrer = TransferLearner()\n",
    "optimised_model, _ = transferrer.get_optimal_params(X_validate, y_validate)\n",
    "transferrer.fit(X_train, y_train, premade_model=optimised_model)\n",
    "transfer_training_times.append(transferrer.get_training_time())\n",
    "\n",
    "print(predictor_training_times)\n",
    "print(transfer_training_times)"
   ]
  },
  {
   "cell_type": "code",
   "execution_count": null,
   "id": "48f0e01e",
   "metadata": {},
   "outputs": [],
   "source": []
  }
 ],
 "metadata": {
  "kernelspec": {
   "display_name": ".venv",
   "language": "python",
   "name": ".venv"
  },
  "language_info": {
   "codemirror_mode": {
    "name": "ipython",
    "version": 3
   },
   "file_extension": ".py",
   "mimetype": "text/x-python",
   "name": "python",
   "nbconvert_exporter": "python",
   "pygments_lexer": "ipython3",
   "version": "3.9.9"
  }
 },
 "nbformat": 4,
 "nbformat_minor": 5
}
