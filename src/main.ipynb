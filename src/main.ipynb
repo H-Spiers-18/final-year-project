{
 "cells": [
  {
   "cell_type": "code",
   "execution_count": 1,
   "id": "f54762f2",
   "metadata": {},
   "outputs": [
    {
     "name": "stdout",
     "output_type": "stream",
     "text": [
      "Initialising results tables\n",
      "Results tabled initialised\n",
      "\n",
      "Selecting random datasets\n",
      "Datasets selected\n"
     ]
    }
   ],
   "source": [
    "import os\n",
    "\n",
    "import pandas as pd\n",
    "\n",
    "import constants\n",
    "from data import Dataset, split_transfer_dataset, get_random_datasets\n",
    "from learner import PredictorLearner, TransferLearner\n",
    "from analysis import *\n",
    "\n",
    "# define training set sizes to be used in experiments\n",
    "TRAINING_SET_SIZES = [0.2, 0.4, 0.6, 0.8]\n",
    "SUBJECT_SYSTEMS = constants.SUBJECT_SYSTEMS\n",
    "REPETITIONS = constants.EXPERIMENT_REPS\n",
    "\n",
    "print('Initialising results tables')\n",
    "# initialise results columns\n",
    "rq1_results_fields = constants.RESULTS_DATAFRAME_COLUMN_NAMES[0]\n",
    "rq1_results = pd.DataFrame(columns=rq1_results_fields)\n",
    "rq2_results_fields = constants.RESULTS_DATAFRAME_COLUMN_NAMES[1]\n",
    "rq2_results = pd.DataFrame(columns=rq2_results_fields)\n",
    "rq3_results_fields = constants.RESULTS_DATAFRAME_COLUMN_NAMES[2]\n",
    "rq3_results = pd.DataFrame(columns=rq3_results_fields)\n",
    "print('Results tabled initialised\\n')\n",
    "\n",
    "print('Selecting random datasets')\n",
    "# randomly select a source and target dataset for each subject system\n",
    "datasets = get_random_datasets(reproducibility_mode=True)\n",
    "print('Datasets selected')"
   ]
  },
  {
   "cell_type": "code",
   "execution_count": 2,
   "id": "140d8ee7",
   "metadata": {},
   "outputs": [
    {
     "name": "stdout",
     "output_type": "stream",
     "text": [
      "***********************************\n",
      "Subject system: nodejs\n",
      "Experiment repetition 1\n",
      "Source dataset path: ../dataset/nodejs\\31\\buffer1.csv\n",
      "Target dataset path: ../dataset/nodejs\\8\\buffer1.csv \n",
      "\n",
      "Experiment repetition 2\n",
      "Source dataset path: ../dataset/nodejs\\default\\buffer1.csv\n",
      "Target dataset path: ../dataset/nodejs\\27\\buffer1.csv \n",
      "\n",
      "Experiment repetition 3\n",
      "Source dataset path: ../dataset/nodejs\\26\\buffer1.csv\n",
      "Target dataset path: ../dataset/nodejs\\17\\buffer1.csv \n",
      "\n",
      "Experiment repetition 4\n",
      "Source dataset path: ../dataset/nodejs\\44\\buffer1.csv\n",
      "Target dataset path: ../dataset/nodejs\\18\\buffer1.csv \n",
      "\n",
      "Experiment repetition 5\n",
      "Source dataset path: ../dataset/nodejs\\49\\buffer1.csv\n",
      "Target dataset path: ../dataset/nodejs\\29\\buffer1.csv \n",
      "\n",
      "Experiment repetition 6\n",
      "Source dataset path: ../dataset/nodejs\\45\\buffer1.csv\n",
      "Target dataset path: ../dataset/nodejs\\46\\buffer1.csv \n",
      "\n",
      "Experiment repetition 7\n",
      "Source dataset path: ../dataset/nodejs\\24\\buffer1.csv\n",
      "Target dataset path: ../dataset/nodejs\\12\\buffer1.csv \n",
      "\n",
      "Experiment repetition 8\n",
      "Source dataset path: ../dataset/nodejs\\default\\buffer1.csv\n",
      "Target dataset path: ../dataset/nodejs\\48\\buffer1.csv \n",
      "\n",
      "Experiment repetition 9\n",
      "Source dataset path: ../dataset/nodejs\\28\\buffer1.csv\n",
      "Target dataset path: ../dataset/nodejs\\50\\buffer1.csv \n",
      "\n",
      "Experiment repetition 10\n",
      "Source dataset path: ../dataset/nodejs\\18\\buffer1.csv\n",
      "Target dataset path: ../dataset/nodejs\\40\\buffer1.csv \n",
      "\n",
      "Experiment repetition 11\n",
      "Source dataset path: ../dataset/nodejs\\38\\buffer1.csv\n",
      "Target dataset path: ../dataset/nodejs\\15\\buffer1.csv \n",
      "\n",
      "Experiment repetition 12\n",
      "Source dataset path: ../dataset/nodejs\\29\\buffer1.csv\n",
      "Target dataset path: ../dataset/nodejs\\40\\buffer1.csv \n",
      "\n",
      "Experiment repetition 13\n",
      "Source dataset path: ../dataset/nodejs\\35\\buffer1.csv\n",
      "Target dataset path: ../dataset/nodejs\\14\\buffer1.csv \n",
      "\n",
      "Experiment repetition 14\n",
      "Source dataset path: ../dataset/nodejs\\20\\buffer1.csv\n",
      "Target dataset path: ../dataset/nodejs\\2\\buffer1.csv \n",
      "\n",
      "Experiment repetition 15\n",
      "Source dataset path: ../dataset/nodejs\\14\\buffer1.csv\n",
      "Target dataset path: ../dataset/nodejs\\49\\buffer1.csv \n",
      "\n",
      "Experiment repetition 16\n",
      "Source dataset path: ../dataset/nodejs\\5\\buffer1.csv\n",
      "Target dataset path: ../dataset/nodejs\\40\\buffer1.csv \n",
      "\n",
      "Experiment repetition 17\n",
      "Source dataset path: ../dataset/nodejs\\23\\buffer1.csv\n",
      "Target dataset path: ../dataset/nodejs\\21\\buffer1.csv \n",
      "\n",
      "Experiment repetition 18\n",
      "Source dataset path: ../dataset/nodejs\\47\\buffer1.csv\n",
      "Target dataset path: ../dataset/nodejs\\5\\buffer1.csv \n",
      "\n",
      "Experiment repetition 19\n",
      "Source dataset path: ../dataset/nodejs\\43\\buffer1.csv\n",
      "Target dataset path: ../dataset/nodejs\\46\\buffer1.csv \n",
      "\n",
      "Experiment repetition 20\n",
      "Source dataset path: ../dataset/nodejs\\25\\buffer1.csv\n",
      "Target dataset path: ../dataset/nodejs\\16\\buffer1.csv \n",
      "\n",
      "Experiment repetition 21\n",
      "Source dataset path: ../dataset/nodejs\\12\\buffer1.csv\n",
      "Target dataset path: ../dataset/nodejs\\15\\buffer1.csv \n",
      "\n"
     ]
    },
    {
     "name": "stderr",
     "output_type": "stream",
     "text": [
      "D:\\final-year-project\\src\\analysis.py:246: RuntimeWarning: More than 20 figures have been opened. Figures created through the pyplot interface (`matplotlib.pyplot.figure`) are retained until explicitly closed and may consume too much memory. (To control this warning, see the rcParam `figure.max_open_warning`).\n",
      "  fig, ax = plt.subplots()\n"
     ]
    },
    {
     "name": "stdout",
     "output_type": "stream",
     "text": [
      "Experiment repetition 22\n",
      "Source dataset path: ../dataset/nodejs\\42\\buffer1.csv\n",
      "Target dataset path: ../dataset/nodejs\\46\\buffer1.csv \n",
      "\n",
      "Experiment repetition 23\n",
      "Source dataset path: ../dataset/nodejs\\42\\buffer1.csv\n",
      "Target dataset path: ../dataset/nodejs\\16\\buffer1.csv \n",
      "\n",
      "Experiment repetition 24\n",
      "Source dataset path: ../dataset/nodejs\\10\\buffer1.csv\n",
      "Target dataset path: ../dataset/nodejs\\20\\buffer1.csv \n",
      "\n",
      "Experiment repetition 25\n",
      "Source dataset path: ../dataset/nodejs\\12\\buffer1.csv\n",
      "Target dataset path: ../dataset/nodejs\\49\\buffer1.csv \n",
      "\n",
      "Wilcoxon p value: [0.007370948791503906]\n",
      "Cliff's delta: [0.1168] \n",
      "\n",
      "Output written to ../results/nodejs\\rq1.csv \n",
      "\n",
      "***********************************\n",
      "Subject system: x264\n",
      "Experiment repetition 1\n",
      "Source dataset path: ../dataset/x264\\24\\original_videos_Animation_480P_Animation_480P-087e.csv\n",
      "Target dataset path: ../dataset/x264\\39\\original_videos_Animation_480P_Animation_480P-087e.csv \n",
      "\n",
      "Experiment repetition 2\n",
      "Source dataset path: ../dataset/x264\\43\\original_videos_Animation_480P_Animation_480P-087e.csv\n",
      "Target dataset path: ../dataset/x264\\21\\original_videos_Animation_480P_Animation_480P-087e.csv \n",
      "\n",
      "Experiment repetition 3\n",
      "Source dataset path: ../dataset/x264\\24\\original_videos_Animation_480P_Animation_480P-087e.csv\n",
      "Target dataset path: ../dataset/x264\\40\\original_videos_Animation_480P_Animation_480P-087e.csv \n",
      "\n",
      "Experiment repetition 4\n",
      "Source dataset path: ../dataset/x264\\6\\original_videos_Animation_480P_Animation_480P-087e.csv\n",
      "Target dataset path: ../dataset/x264\\13\\original_videos_Animation_480P_Animation_480P-087e.csv \n",
      "\n",
      "Experiment repetition 5\n",
      "Source dataset path: ../dataset/x264\\15\\original_videos_Animation_480P_Animation_480P-087e.csv\n",
      "Target dataset path: ../dataset/x264\\3\\original_videos_Animation_480P_Animation_480P-087e.csv \n",
      "\n",
      "Experiment repetition 6\n",
      "Source dataset path: ../dataset/x264\\37\\original_videos_Animation_480P_Animation_480P-087e.csv\n",
      "Target dataset path: ../dataset/x264\\35\\original_videos_Animation_480P_Animation_480P-087e.csv \n",
      "\n",
      "Experiment repetition 7\n",
      "Source dataset path: ../dataset/x264\\6\\original_videos_Animation_480P_Animation_480P-087e.csv\n",
      "Target dataset path: ../dataset/x264\\32\\original_videos_Animation_480P_Animation_480P-087e.csv \n",
      "\n",
      "Experiment repetition 8\n",
      "Source dataset path: ../dataset/x264\\38\\original_videos_Animation_480P_Animation_480P-087e.csv\n",
      "Target dataset path: ../dataset/x264\\29\\original_videos_Animation_480P_Animation_480P-087e.csv \n",
      "\n",
      "Experiment repetition 9\n",
      "Source dataset path: ../dataset/x264\\42\\original_videos_Animation_480P_Animation_480P-087e.csv\n",
      "Target dataset path: ../dataset/x264\\22\\original_videos_Animation_480P_Animation_480P-087e.csv \n",
      "\n",
      "Experiment repetition 10\n",
      "Source dataset path: ../dataset/x264\\14\\original_videos_Animation_480P_Animation_480P-087e.csv\n",
      "Target dataset path: ../dataset/x264\\28\\original_videos_Animation_480P_Animation_480P-087e.csv \n",
      "\n",
      "Experiment repetition 11\n",
      "Source dataset path: ../dataset/x264\\26\\original_videos_Animation_480P_Animation_480P-087e.csv\n",
      "Target dataset path: ../dataset/x264\\50\\original_videos_Animation_480P_Animation_480P-087e.csv \n",
      "\n",
      "Experiment repetition 12\n",
      "Source dataset path: ../dataset/x264\\44\\original_videos_Animation_480P_Animation_480P-087e.csv\n",
      "Target dataset path: ../dataset/x264\\41\\original_videos_Animation_480P_Animation_480P-087e.csv \n",
      "\n",
      "Experiment repetition 13\n",
      "Source dataset path: ../dataset/x264\\42\\original_videos_Animation_480P_Animation_480P-087e.csv\n",
      "Target dataset path: ../dataset/x264\\23\\original_videos_Animation_480P_Animation_480P-087e.csv \n",
      "\n",
      "Experiment repetition 14\n",
      "Source dataset path: ../dataset/x264\\48\\original_videos_Animation_480P_Animation_480P-087e.csv\n",
      "Target dataset path: ../dataset/x264\\24\\original_videos_Animation_480P_Animation_480P-087e.csv \n",
      "\n",
      "Experiment repetition 15\n",
      "Source dataset path: ../dataset/x264\\18\\original_videos_Animation_480P_Animation_480P-087e.csv\n",
      "Target dataset path: ../dataset/x264\\11\\original_videos_Animation_480P_Animation_480P-087e.csv \n",
      "\n",
      "Experiment repetition 16\n",
      "Source dataset path: ../dataset/x264\\50\\original_videos_Animation_480P_Animation_480P-087e.csv\n",
      "Target dataset path: ../dataset/x264\\4\\original_videos_Animation_480P_Animation_480P-087e.csv \n",
      "\n",
      "Experiment repetition 17\n",
      "Source dataset path: ../dataset/x264\\25\\original_videos_Animation_480P_Animation_480P-087e.csv\n",
      "Target dataset path: ../dataset/x264\\35\\original_videos_Animation_480P_Animation_480P-087e.csv \n",
      "\n",
      "Experiment repetition 18\n",
      "Source dataset path: ../dataset/x264\\28\\original_videos_Animation_480P_Animation_480P-087e.csv\n",
      "Target dataset path: ../dataset/x264\\45\\original_videos_Animation_480P_Animation_480P-087e.csv \n",
      "\n",
      "Experiment repetition 19\n",
      "Source dataset path: ../dataset/x264\\20\\original_videos_Animation_480P_Animation_480P-087e.csv\n",
      "Target dataset path: ../dataset/x264\\23\\original_videos_Animation_480P_Animation_480P-087e.csv \n",
      "\n",
      "Experiment repetition 20\n",
      "Source dataset path: ../dataset/x264\\default\\original_videos_Animation_480P_Animation_480P-087e.csv\n",
      "Target dataset path: ../dataset/x264\\19\\original_videos_Animation_480P_Animation_480P-087e.csv \n",
      "\n",
      "Experiment repetition 21\n",
      "Source dataset path: ../dataset/x264\\5\\original_videos_Animation_480P_Animation_480P-087e.csv\n",
      "Target dataset path: ../dataset/x264\\22\\original_videos_Animation_480P_Animation_480P-087e.csv \n",
      "\n",
      "Experiment repetition 22\n",
      "Source dataset path: ../dataset/x264\\16\\original_videos_Animation_480P_Animation_480P-087e.csv\n",
      "Target dataset path: ../dataset/x264\\46\\original_videos_Animation_480P_Animation_480P-087e.csv \n",
      "\n",
      "Experiment repetition 23\n",
      "Source dataset path: ../dataset/x264\\30\\original_videos_Animation_480P_Animation_480P-087e.csv\n",
      "Target dataset path: ../dataset/x264\\16\\original_videos_Animation_480P_Animation_480P-087e.csv \n",
      "\n",
      "Experiment repetition 24\n",
      "Source dataset path: ../dataset/x264\\16\\original_videos_Animation_480P_Animation_480P-087e.csv\n",
      "Target dataset path: ../dataset/x264\\37\\original_videos_Animation_480P_Animation_480P-087e.csv \n",
      "\n",
      "Experiment repetition 25\n",
      "Source dataset path: ../dataset/x264\\34\\original_videos_Animation_480P_Animation_480P-087e.csv\n",
      "Target dataset path: ../dataset/x264\\45\\original_videos_Animation_480P_Animation_480P-087e.csv \n",
      "\n",
      "Wilcoxon p value: [0.0037809014320373535]\n",
      "Cliff's delta: [0.264] \n",
      "\n",
      "Output written to ../results/x264\\rq1.csv \n",
      "\n",
      "***********************************\n",
      "Subject system: xz\n",
      "Experiment repetition 1\n",
      "Source dataset path: ../dataset/xz\\23\\dickens.csv\n",
      "Target dataset path: ../dataset/xz\\20\\dickens.csv \n",
      "\n",
      "Experiment repetition 2\n",
      "Source dataset path: ../dataset/xz\\24\\dickens.csv\n",
      "Target dataset path: ../dataset/xz\\13\\dickens.csv \n",
      "\n",
      "Experiment repetition 3\n",
      "Source dataset path: ../dataset/xz\\3\\dickens.csv\n",
      "Target dataset path: ../dataset/xz\\5\\dickens.csv \n",
      "\n",
      "Experiment repetition 4\n",
      "Source dataset path: ../dataset/xz\\8\\dickens.csv\n",
      "Target dataset path: ../dataset/xz\\7\\dickens.csv \n",
      "\n",
      "Experiment repetition 5\n",
      "Source dataset path: ../dataset/xz\\21\\dickens.csv\n",
      "Target dataset path: ../dataset/xz\\19\\dickens.csv \n",
      "\n",
      "Experiment repetition 6\n",
      "Source dataset path: ../dataset/xz\\7\\dickens.csv\n",
      "Target dataset path: ../dataset/xz\\24\\dickens.csv \n",
      "\n",
      "Experiment repetition 7\n",
      "Source dataset path: ../dataset/xz\\3\\dickens.csv\n",
      "Target dataset path: ../dataset/xz\\6\\dickens.csv \n",
      "\n",
      "Experiment repetition 8\n",
      "Source dataset path: ../dataset/xz\\16\\dickens.csv\n",
      "Target dataset path: ../dataset/xz\\30\\dickens.csv \n",
      "\n",
      "Experiment repetition 9\n",
      "Source dataset path: ../dataset/xz\\16\\dickens.csv\n",
      "Target dataset path: ../dataset/xz\\5\\dickens.csv \n",
      "\n",
      "Experiment repetition 10\n",
      "Source dataset path: ../dataset/xz\\8\\dickens.csv\n",
      "Target dataset path: ../dataset/xz\\24\\dickens.csv \n",
      "\n",
      "Experiment repetition 11\n",
      "Source dataset path: ../dataset/xz\\12\\dickens.csv\n",
      "Target dataset path: ../dataset/xz\\25\\dickens.csv \n",
      "\n",
      "Experiment repetition 12\n",
      "Source dataset path: ../dataset/xz\\26\\dickens.csv\n",
      "Target dataset path: ../dataset/xz\\18\\dickens.csv \n",
      "\n",
      "Experiment repetition 13\n",
      "Source dataset path: ../dataset/xz\\18\\dickens.csv\n",
      "Target dataset path: ../dataset/xz\\14\\dickens.csv \n",
      "\n",
      "Experiment repetition 14\n",
      "Source dataset path: ../dataset/xz\\23\\dickens.csv\n",
      "Target dataset path: ../dataset/xz\\11\\dickens.csv \n",
      "\n",
      "Experiment repetition 15\n",
      "Source dataset path: ../dataset/xz\\6\\dickens.csv\n",
      "Target dataset path: ../dataset/xz\\11\\dickens.csv \n",
      "\n",
      "Experiment repetition 16\n",
      "Source dataset path: ../dataset/xz\\17\\dickens.csv\n",
      "Target dataset path: ../dataset/xz\\24\\dickens.csv \n",
      "\n"
     ]
    },
    {
     "name": "stdout",
     "output_type": "stream",
     "text": [
      "Experiment repetition 17\n",
      "Source dataset path: ../dataset/xz\\23\\dickens.csv\n",
      "Target dataset path: ../dataset/xz\\29\\dickens.csv \n",
      "\n",
      "Experiment repetition 18\n",
      "Source dataset path: ../dataset/xz\\12\\dickens.csv\n",
      "Target dataset path: ../dataset/xz\\23\\dickens.csv \n",
      "\n",
      "Experiment repetition 19\n",
      "Source dataset path: ../dataset/xz\\1\\dickens.csv\n",
      "Target dataset path: ../dataset/xz\\30\\dickens.csv \n",
      "\n",
      "Experiment repetition 20\n",
      "Source dataset path: ../dataset/xz\\19\\dickens.csv\n",
      "Target dataset path: ../dataset/xz\\21\\dickens.csv \n",
      "\n",
      "Experiment repetition 21\n",
      "Source dataset path: ../dataset/xz\\10\\dickens.csv\n",
      "Target dataset path: ../dataset/xz\\6\\dickens.csv \n",
      "\n",
      "Experiment repetition 22\n",
      "Source dataset path: ../dataset/xz\\15\\dickens.csv\n",
      "Target dataset path: ../dataset/xz\\27\\dickens.csv \n",
      "\n",
      "Experiment repetition 23\n",
      "Source dataset path: ../dataset/xz\\10\\dickens.csv\n",
      "Target dataset path: ../dataset/xz\\27\\dickens.csv \n",
      "\n",
      "Experiment repetition 24\n",
      "Source dataset path: ../dataset/xz\\15\\dickens.csv\n",
      "Target dataset path: ../dataset/xz\\30\\dickens.csv \n",
      "\n",
      "Experiment repetition 25\n",
      "Source dataset path: ../dataset/xz\\12\\dickens.csv\n",
      "Target dataset path: ../dataset/xz\\6\\dickens.csv \n",
      "\n",
      "Wilcoxon p value: [4.5418739318847656e-05]\n",
      "Cliff's delta: [0.6224] \n",
      "\n",
      "Output written to ../results/xz\\rq1.csv \n",
      "\n"
     ]
    },
    {
     "data": {
      "text/plain": [
       "<Figure size 432x288 with 0 Axes>"
      ]
     },
     "metadata": {},
     "output_type": "display_data"
    },
    {
     "data": {
      "text/plain": [
       "<Figure size 432x288 with 0 Axes>"
      ]
     },
     "metadata": {},
     "output_type": "display_data"
    },
    {
     "data": {
      "text/plain": [
       "<Figure size 432x288 with 0 Axes>"
      ]
     },
     "metadata": {},
     "output_type": "display_data"
    },
    {
     "data": {
      "text/plain": [
       "<Figure size 432x288 with 0 Axes>"
      ]
     },
     "metadata": {},
     "output_type": "display_data"
    },
    {
     "data": {
      "text/plain": [
       "<Figure size 432x288 with 0 Axes>"
      ]
     },
     "metadata": {},
     "output_type": "display_data"
    },
    {
     "data": {
      "text/plain": [
       "<Figure size 432x288 with 0 Axes>"
      ]
     },
     "metadata": {},
     "output_type": "display_data"
    },
    {
     "data": {
      "text/plain": [
       "<Figure size 432x288 with 0 Axes>"
      ]
     },
     "metadata": {},
     "output_type": "display_data"
    },
    {
     "data": {
      "text/plain": [
       "<Figure size 432x288 with 0 Axes>"
      ]
     },
     "metadata": {},
     "output_type": "display_data"
    },
    {
     "data": {
      "text/plain": [
       "<Figure size 432x288 with 0 Axes>"
      ]
     },
     "metadata": {},
     "output_type": "display_data"
    },
    {
     "data": {
      "text/plain": [
       "<Figure size 432x288 with 0 Axes>"
      ]
     },
     "metadata": {},
     "output_type": "display_data"
    },
    {
     "data": {
      "text/plain": [
       "<Figure size 432x288 with 0 Axes>"
      ]
     },
     "metadata": {},
     "output_type": "display_data"
    },
    {
     "data": {
      "text/plain": [
       "<Figure size 432x288 with 0 Axes>"
      ]
     },
     "metadata": {},
     "output_type": "display_data"
    },
    {
     "data": {
      "text/plain": [
       "<Figure size 432x288 with 0 Axes>"
      ]
     },
     "metadata": {},
     "output_type": "display_data"
    },
    {
     "data": {
      "text/plain": [
       "<Figure size 432x288 with 0 Axes>"
      ]
     },
     "metadata": {},
     "output_type": "display_data"
    },
    {
     "data": {
      "text/plain": [
       "<Figure size 432x288 with 0 Axes>"
      ]
     },
     "metadata": {},
     "output_type": "display_data"
    },
    {
     "data": {
      "text/plain": [
       "<Figure size 432x288 with 0 Axes>"
      ]
     },
     "metadata": {},
     "output_type": "display_data"
    },
    {
     "data": {
      "text/plain": [
       "<Figure size 432x288 with 0 Axes>"
      ]
     },
     "metadata": {},
     "output_type": "display_data"
    },
    {
     "data": {
      "text/plain": [
       "<Figure size 432x288 with 0 Axes>"
      ]
     },
     "metadata": {},
     "output_type": "display_data"
    },
    {
     "data": {
      "text/plain": [
       "<Figure size 432x288 with 0 Axes>"
      ]
     },
     "metadata": {},
     "output_type": "display_data"
    },
    {
     "data": {
      "text/plain": [
       "<Figure size 432x288 with 0 Axes>"
      ]
     },
     "metadata": {},
     "output_type": "display_data"
    },
    {
     "data": {
      "text/plain": [
       "<Figure size 432x288 with 0 Axes>"
      ]
     },
     "metadata": {},
     "output_type": "display_data"
    },
    {
     "data": {
      "text/plain": [
       "<Figure size 432x288 with 0 Axes>"
      ]
     },
     "metadata": {},
     "output_type": "display_data"
    },
    {
     "data": {
      "text/plain": [
       "<Figure size 432x288 with 0 Axes>"
      ]
     },
     "metadata": {},
     "output_type": "display_data"
    },
    {
     "data": {
      "text/plain": [
       "<Figure size 432x288 with 0 Axes>"
      ]
     },
     "metadata": {},
     "output_type": "display_data"
    },
    {
     "data": {
      "text/plain": [
       "<Figure size 432x288 with 0 Axes>"
      ]
     },
     "metadata": {},
     "output_type": "display_data"
    },
    {
     "data": {
      "text/plain": [
       "<Figure size 432x288 with 0 Axes>"
      ]
     },
     "metadata": {},
     "output_type": "display_data"
    },
    {
     "data": {
      "text/plain": [
       "<Figure size 432x288 with 0 Axes>"
      ]
     },
     "metadata": {},
     "output_type": "display_data"
    },
    {
     "data": {
      "text/plain": [
       "<Figure size 432x288 with 0 Axes>"
      ]
     },
     "metadata": {},
     "output_type": "display_data"
    },
    {
     "data": {
      "text/plain": [
       "<Figure size 432x288 with 0 Axes>"
      ]
     },
     "metadata": {},
     "output_type": "display_data"
    },
    {
     "data": {
      "text/plain": [
       "<Figure size 432x288 with 0 Axes>"
      ]
     },
     "metadata": {},
     "output_type": "display_data"
    },
    {
     "data": {
      "text/plain": [
       "<Figure size 432x288 with 0 Axes>"
      ]
     },
     "metadata": {},
     "output_type": "display_data"
    },
    {
     "data": {
      "text/plain": [
       "<Figure size 432x288 with 0 Axes>"
      ]
     },
     "metadata": {},
     "output_type": "display_data"
    },
    {
     "data": {
      "text/plain": [
       "<Figure size 432x288 with 0 Axes>"
      ]
     },
     "metadata": {},
     "output_type": "display_data"
    },
    {
     "data": {
      "text/plain": [
       "<Figure size 432x288 with 0 Axes>"
      ]
     },
     "metadata": {},
     "output_type": "display_data"
    },
    {
     "data": {
      "text/plain": [
       "<Figure size 432x288 with 0 Axes>"
      ]
     },
     "metadata": {},
     "output_type": "display_data"
    },
    {
     "data": {
      "text/plain": [
       "<Figure size 432x288 with 0 Axes>"
      ]
     },
     "metadata": {},
     "output_type": "display_data"
    },
    {
     "data": {
      "text/plain": [
       "<Figure size 432x288 with 0 Axes>"
      ]
     },
     "metadata": {},
     "output_type": "display_data"
    },
    {
     "data": {
      "text/plain": [
       "<Figure size 432x288 with 0 Axes>"
      ]
     },
     "metadata": {},
     "output_type": "display_data"
    },
    {
     "data": {
      "text/plain": [
       "<Figure size 432x288 with 0 Axes>"
      ]
     },
     "metadata": {},
     "output_type": "display_data"
    },
    {
     "data": {
      "text/plain": [
       "<Figure size 432x288 with 0 Axes>"
      ]
     },
     "metadata": {},
     "output_type": "display_data"
    },
    {
     "data": {
      "text/plain": [
       "<Figure size 432x288 with 0 Axes>"
      ]
     },
     "metadata": {},
     "output_type": "display_data"
    },
    {
     "data": {
      "text/plain": [
       "<Figure size 432x288 with 0 Axes>"
      ]
     },
     "metadata": {},
     "output_type": "display_data"
    },
    {
     "data": {
      "text/plain": [
       "<Figure size 432x288 with 0 Axes>"
      ]
     },
     "metadata": {},
     "output_type": "display_data"
    },
    {
     "data": {
      "text/plain": [
       "<Figure size 432x288 with 0 Axes>"
      ]
     },
     "metadata": {},
     "output_type": "display_data"
    },
    {
     "data": {
      "text/plain": [
       "<Figure size 432x288 with 0 Axes>"
      ]
     },
     "metadata": {},
     "output_type": "display_data"
    },
    {
     "data": {
      "text/plain": [
       "<Figure size 432x288 with 0 Axes>"
      ]
     },
     "metadata": {},
     "output_type": "display_data"
    },
    {
     "data": {
      "text/plain": [
       "<Figure size 432x288 with 0 Axes>"
      ]
     },
     "metadata": {},
     "output_type": "display_data"
    },
    {
     "data": {
      "text/plain": [
       "<Figure size 432x288 with 0 Axes>"
      ]
     },
     "metadata": {},
     "output_type": "display_data"
    },
    {
     "data": {
      "text/plain": [
       "<Figure size 432x288 with 0 Axes>"
      ]
     },
     "metadata": {},
     "output_type": "display_data"
    },
    {
     "data": {
      "text/plain": [
       "<Figure size 432x288 with 0 Axes>"
      ]
     },
     "metadata": {},
     "output_type": "display_data"
    },
    {
     "data": {
      "text/plain": [
       "<Figure size 432x288 with 0 Axes>"
      ]
     },
     "metadata": {},
     "output_type": "display_data"
    },
    {
     "data": {
      "text/plain": [
       "<Figure size 432x288 with 0 Axes>"
      ]
     },
     "metadata": {},
     "output_type": "display_data"
    },
    {
     "data": {
      "text/plain": [
       "<Figure size 432x288 with 0 Axes>"
      ]
     },
     "metadata": {},
     "output_type": "display_data"
    },
    {
     "data": {
      "text/plain": [
       "<Figure size 432x288 with 0 Axes>"
      ]
     },
     "metadata": {},
     "output_type": "display_data"
    },
    {
     "data": {
      "text/plain": [
       "<Figure size 432x288 with 0 Axes>"
      ]
     },
     "metadata": {},
     "output_type": "display_data"
    },
    {
     "data": {
      "text/plain": [
       "<Figure size 432x288 with 0 Axes>"
      ]
     },
     "metadata": {},
     "output_type": "display_data"
    },
    {
     "data": {
      "text/plain": [
       "<Figure size 432x288 with 0 Axes>"
      ]
     },
     "metadata": {},
     "output_type": "display_data"
    },
    {
     "data": {
      "text/plain": [
       "<Figure size 432x288 with 0 Axes>"
      ]
     },
     "metadata": {},
     "output_type": "display_data"
    },
    {
     "data": {
      "text/plain": [
       "<Figure size 432x288 with 0 Axes>"
      ]
     },
     "metadata": {},
     "output_type": "display_data"
    },
    {
     "data": {
      "text/plain": [
       "<Figure size 432x288 with 0 Axes>"
      ]
     },
     "metadata": {},
     "output_type": "display_data"
    },
    {
     "data": {
      "text/plain": [
       "<Figure size 432x288 with 0 Axes>"
      ]
     },
     "metadata": {},
     "output_type": "display_data"
    },
    {
     "data": {
      "text/plain": [
       "<Figure size 432x288 with 0 Axes>"
      ]
     },
     "metadata": {},
     "output_type": "display_data"
    },
    {
     "data": {
      "text/plain": [
       "<Figure size 432x288 with 0 Axes>"
      ]
     },
     "metadata": {},
     "output_type": "display_data"
    },
    {
     "data": {
      "text/plain": [
       "<Figure size 432x288 with 0 Axes>"
      ]
     },
     "metadata": {},
     "output_type": "display_data"
    },
    {
     "data": {
      "text/plain": [
       "<Figure size 432x288 with 0 Axes>"
      ]
     },
     "metadata": {},
     "output_type": "display_data"
    },
    {
     "data": {
      "text/plain": [
       "<Figure size 432x288 with 0 Axes>"
      ]
     },
     "metadata": {},
     "output_type": "display_data"
    },
    {
     "data": {
      "text/plain": [
       "<Figure size 432x288 with 0 Axes>"
      ]
     },
     "metadata": {},
     "output_type": "display_data"
    },
    {
     "data": {
      "text/plain": [
       "<Figure size 432x288 with 0 Axes>"
      ]
     },
     "metadata": {},
     "output_type": "display_data"
    },
    {
     "data": {
      "text/plain": [
       "<Figure size 432x288 with 0 Axes>"
      ]
     },
     "metadata": {},
     "output_type": "display_data"
    },
    {
     "data": {
      "text/plain": [
       "<Figure size 432x288 with 0 Axes>"
      ]
     },
     "metadata": {},
     "output_type": "display_data"
    },
    {
     "data": {
      "text/plain": [
       "<Figure size 432x288 with 0 Axes>"
      ]
     },
     "metadata": {},
     "output_type": "display_data"
    },
    {
     "data": {
      "text/plain": [
       "<Figure size 432x288 with 0 Axes>"
      ]
     },
     "metadata": {},
     "output_type": "display_data"
    },
    {
     "data": {
      "text/plain": [
       "<Figure size 432x288 with 0 Axes>"
      ]
     },
     "metadata": {},
     "output_type": "display_data"
    },
    {
     "data": {
      "text/plain": [
       "<Figure size 432x288 with 0 Axes>"
      ]
     },
     "metadata": {},
     "output_type": "display_data"
    },
    {
     "data": {
      "text/plain": [
       "<Figure size 432x288 with 0 Axes>"
      ]
     },
     "metadata": {},
     "output_type": "display_data"
    },
    {
     "data": {
      "image/png": "[encoded data removed]",
      "text/plain": [
       "<Figure size 432x288 with 1 Axes>"
      ]
     },
     "metadata": {
      "needs_background": "light"
     },
     "output_type": "display_data"
    },
    {
     "data": {
      "image/png": "[encoded data removed]",
      "text/plain": [
       "<Figure size 432x288 with 1 Axes>"
      ]
     },
     "metadata": {
      "needs_background": "light"
     },
     "output_type": "display_data"
    },
    {
     "data": {
      "image/png": "[encoded data removed]",
      "text/plain": [
       "<Figure size 432x288 with 1 Axes>"
      ]
     },
     "metadata": {
      "needs_background": "light"
     },
     "output_type": "display_data"
    },
    {
     "data": {
      "image/png": "[encoded data removed]",
      "text/plain": [
       "<Figure size 432x288 with 1 Axes>"
      ]
     },
     "metadata": {
      "needs_background": "light"
     },
     "output_type": "display_data"
    },
    {
     "data": {
      "image/png": "[encoded data removed]",
      "text/plain": [
       "<Figure size 432x288 with 1 Axes>"
      ]
     },
     "metadata": {
      "needs_background": "light"
     },
     "output_type": "display_data"
    },
    {
     "data": {
      "image/png": "[encoded data removed]",
      "text/plain": [
       "<Figure size 432x288 with 1 Axes>"
      ]
     },
     "metadata": {
      "needs_background": "light"
     },
     "output_type": "display_data"
    }
   ],
   "source": [
    "### RQ1\n",
    "\n",
    "predictor = PredictorLearner()\n",
    "transferrer = TransferLearner()\n",
    "\n",
    "for subject_system in SUBJECT_SYSTEMS:\n",
    "    print('***********************************\\nSubject system:', subject_system)\n",
    "    \n",
    "    # delete the results of previous subject system's test before entering next subject system's results\n",
    "    mape_accuracy_pred_no_cv = []\n",
    "    mape_accuracy_trans_no_cv = []\n",
    "    mape_accuracy_pred_cv = []\n",
    "    mape_accuracy_trans_cv = []\n",
    "    mse_accuracy_pred_no_cv = []\n",
    "    mse_accuracy_trans_no_cv = []\n",
    "    mse_accuracy_pred_cv = []\n",
    "    mse_accuracy_trans_cv = []\n",
    "\n",
    "    # get the randomly selected target and source datasets for the current subject system\n",
    "    subject_system_datasets = datasets[subject_system]\n",
    "\n",
    "    for rep in range(REPETITIONS):\n",
    "        print('Experiment repetition', rep+1)\n",
    "        # grab a target and source dataset for this experiment repetition\n",
    "        src_dataset, tgt_dataset = subject_system_datasets[rep]\n",
    "        print('Source dataset path:', src_dataset.get_csv_path())\n",
    "        print('Target dataset path:', tgt_dataset.get_csv_path(),'\\n')\n",
    "\n",
    "        # get optimised predictor model using hyperparameter optimisation\n",
    "        X_train, X_validate, y_train, y_validate = tgt_dataset.get_split_dataset()\n",
    "        optimised_model = predictor.get_optimal_params(X_validate, y_validate)\n",
    "\n",
    "        # get accuracy of optimised model for predictor learner\n",
    "        predictor.fit(X_train, y_train, premade_model=optimised_model)\n",
    "        mape_accuracy_pred_cv.append(predictor.get_error(X_train, y_train, measure='mape'))\n",
    "        mse_accuracy_pred_cv.append(predictor.get_error(X_train, y_train, measure='mse'))\n",
    "\n",
    "        # get accuracy of non-optimised model for predictor learner\n",
    "        predictor.fit(X_train, y_train)\n",
    "        mape_accuracy_pred_no_cv.append(predictor.get_error(X_train, y_train, measure='mape'))\n",
    "        mse_accuracy_pred_no_cv.append(predictor.get_error(X_train, y_train, measure='mse'))\n",
    "\n",
    "\n",
    "        # get optimised transfer model using hyperparameter optimisation\n",
    "        X_train, X_validate, y_train, y_validate = split_transfer_dataset(src_dataset, tgt_dataset)\n",
    "        optimised_model = transferrer.get_optimal_params(X_validate, y_validate)\n",
    "\n",
    "        # get accuracy of optimised model for transfer learner\n",
    "        transferrer.fit(X_train, y_train, premade_model=optimised_model)\n",
    "        mape_accuracy_trans_cv.append(transferrer.get_error(X_train, y_train, measure='mape'))\n",
    "        mse_accuracy_trans_cv.append(predictor.get_error(X_train, y_train, measure='mse'))\n",
    "        make_transfer_model_scatter_plot(transferrer.get_model(), \n",
    "                                         X_train, \n",
    "                                         y_train, \n",
    "                                         1, \n",
    "                                         mape_accuracy_trans_cv[-1], \n",
    "                                         rep+1, \n",
    "                                         subject_system)\n",
    "\n",
    "        # get accuracy of non-optimised model for transfer learner\n",
    "        transferrer.fit(X_train, y_train)\n",
    "        mape_accuracy_trans_no_cv.append(transferrer.get_error(X_train, y_train, measure='mape'))\n",
    "        mse_accuracy_trans_no_cv.append(predictor.get_error(X_train, y_train, measure='mse'))\n",
    "\n",
    "\n",
    "    rq1_results['mse_accuracy_tgt_no_cv'] = mse_accuracy_pred_no_cv\n",
    "    rq1_results['mape_accuracy_tgt_no_cv'] = mape_accuracy_pred_no_cv\n",
    "    rq1_results['mse_accuracy_tgt_cv'] = mse_accuracy_pred_cv\n",
    "    rq1_results['mape_accuracy_tgt_cv'] = mape_accuracy_pred_cv\n",
    "    rq1_results['mse_accuracy_trans_no_cv'] = mse_accuracy_trans_no_cv\n",
    "    rq1_results['mape_accuracy_trans_no_cv'] = mape_accuracy_trans_no_cv\n",
    "    rq1_results['mse_accuracy_trans_cv'] = mse_accuracy_trans_cv\n",
    "    rq1_results['mape_accuracy_trans_cv'] = mape_accuracy_trans_cv\n",
    "    \n",
    "    p_value = [get_wilcoxon_p_value(mape_accuracy_pred_cv, mape_accuracy_trans_cv)]\n",
    "    cliffs_delta = [get_cliffs_delta(mape_accuracy_pred_cv, mape_accuracy_trans_cv)]\n",
    "    print('Wilcoxon p value:', p_value)\n",
    "    print('Cliff\\'s delta:', cliffs_delta, '\\n')\n",
    "\n",
    "    save_results(rq1_results, subject_system.lower(), p_value, cliffs_delta, 1)\n",
    "\n",
    "    # reset dataframe after results are saved to csv\n",
    "    rq1_results = pd.DataFrame(columns=rq1_results.columns)\n",
    "    \n",
    "make_box_plots(1)\n",
    "write_mean_min_max(1)"
   ]
  },
  {
   "cell_type": "code",
   "execution_count": 3,
   "id": "c2b4dec9",
   "metadata": {},
   "outputs": [
    {
     "name": "stdout",
     "output_type": "stream",
     "text": [
      "***********************************\n",
      "Subject system: nodejs\n",
      "Experiment repetition 1\n",
      "Source dataset path: ../dataset/nodejs\\31\\buffer1.csv\n",
      "Target dataset path: ../dataset/nodejs\\8\\buffer1.csv \n",
      "\n",
      "Experiment repetition 2\n",
      "Source dataset path: ../dataset/nodejs\\default\\buffer1.csv\n",
      "Target dataset path: ../dataset/nodejs\\27\\buffer1.csv \n",
      "\n",
      "Experiment repetition 3\n",
      "Source dataset path: ../dataset/nodejs\\26\\buffer1.csv\n",
      "Target dataset path: ../dataset/nodejs\\17\\buffer1.csv \n",
      "\n",
      "Experiment repetition 4\n",
      "Source dataset path: ../dataset/nodejs\\44\\buffer1.csv\n",
      "Target dataset path: ../dataset/nodejs\\18\\buffer1.csv \n",
      "\n",
      "Experiment repetition 5\n",
      "Source dataset path: ../dataset/nodejs\\49\\buffer1.csv\n",
      "Target dataset path: ../dataset/nodejs\\29\\buffer1.csv \n",
      "\n",
      "Experiment repetition 6\n",
      "Source dataset path: ../dataset/nodejs\\45\\buffer1.csv\n",
      "Target dataset path: ../dataset/nodejs\\46\\buffer1.csv \n",
      "\n"
     ]
    },
    {
     "name": "stderr",
     "output_type": "stream",
     "text": [
      "D:\\final-year-project\\src\\analysis.py:246: RuntimeWarning: More than 20 figures have been opened. Figures created through the pyplot interface (`matplotlib.pyplot.figure`) are retained until explicitly closed and may consume too much memory. (To control this warning, see the rcParam `figure.max_open_warning`).\n",
      "  fig, ax = plt.subplots()\n"
     ]
    },
    {
     "name": "stdout",
     "output_type": "stream",
     "text": [
      "Experiment repetition 7\n",
      "Source dataset path: ../dataset/nodejs\\24\\buffer1.csv\n",
      "Target dataset path: ../dataset/nodejs\\12\\buffer1.csv \n",
      "\n",
      "Experiment repetition 8\n",
      "Source dataset path: ../dataset/nodejs\\default\\buffer1.csv\n",
      "Target dataset path: ../dataset/nodejs\\48\\buffer1.csv \n",
      "\n",
      "Experiment repetition 9\n",
      "Source dataset path: ../dataset/nodejs\\28\\buffer1.csv\n",
      "Target dataset path: ../dataset/nodejs\\50\\buffer1.csv \n",
      "\n",
      "Experiment repetition 10\n",
      "Source dataset path: ../dataset/nodejs\\18\\buffer1.csv\n",
      "Target dataset path: ../dataset/nodejs\\40\\buffer1.csv \n",
      "\n",
      "Experiment repetition 11\n",
      "Source dataset path: ../dataset/nodejs\\38\\buffer1.csv\n",
      "Target dataset path: ../dataset/nodejs\\15\\buffer1.csv \n",
      "\n",
      "Experiment repetition 12\n",
      "Source dataset path: ../dataset/nodejs\\29\\buffer1.csv\n",
      "Target dataset path: ../dataset/nodejs\\40\\buffer1.csv \n",
      "\n",
      "Experiment repetition 13\n",
      "Source dataset path: ../dataset/nodejs\\35\\buffer1.csv\n",
      "Target dataset path: ../dataset/nodejs\\14\\buffer1.csv \n",
      "\n",
      "Experiment repetition 14\n",
      "Source dataset path: ../dataset/nodejs\\20\\buffer1.csv\n",
      "Target dataset path: ../dataset/nodejs\\2\\buffer1.csv \n",
      "\n",
      "Experiment repetition 15\n",
      "Source dataset path: ../dataset/nodejs\\14\\buffer1.csv\n",
      "Target dataset path: ../dataset/nodejs\\49\\buffer1.csv \n",
      "\n",
      "Experiment repetition 16\n",
      "Source dataset path: ../dataset/nodejs\\5\\buffer1.csv\n",
      "Target dataset path: ../dataset/nodejs\\40\\buffer1.csv \n",
      "\n",
      "Experiment repetition 17\n",
      "Source dataset path: ../dataset/nodejs\\23\\buffer1.csv\n",
      "Target dataset path: ../dataset/nodejs\\21\\buffer1.csv \n",
      "\n",
      "Experiment repetition 18\n",
      "Source dataset path: ../dataset/nodejs\\47\\buffer1.csv\n",
      "Target dataset path: ../dataset/nodejs\\5\\buffer1.csv \n",
      "\n",
      "Experiment repetition 19\n",
      "Source dataset path: ../dataset/nodejs\\43\\buffer1.csv\n",
      "Target dataset path: ../dataset/nodejs\\46\\buffer1.csv \n",
      "\n",
      "Experiment repetition 20\n",
      "Source dataset path: ../dataset/nodejs\\25\\buffer1.csv\n",
      "Target dataset path: ../dataset/nodejs\\16\\buffer1.csv \n",
      "\n",
      "Experiment repetition 21\n",
      "Source dataset path: ../dataset/nodejs\\12\\buffer1.csv\n",
      "Target dataset path: ../dataset/nodejs\\15\\buffer1.csv \n",
      "\n",
      "Experiment repetition 22\n",
      "Source dataset path: ../dataset/nodejs\\42\\buffer1.csv\n",
      "Target dataset path: ../dataset/nodejs\\46\\buffer1.csv \n",
      "\n",
      "Experiment repetition 23\n",
      "Source dataset path: ../dataset/nodejs\\42\\buffer1.csv\n",
      "Target dataset path: ../dataset/nodejs\\16\\buffer1.csv \n",
      "\n",
      "Experiment repetition 24\n",
      "Source dataset path: ../dataset/nodejs\\10\\buffer1.csv\n",
      "Target dataset path: ../dataset/nodejs\\20\\buffer1.csv \n",
      "\n",
      "Experiment repetition 25\n",
      "Source dataset path: ../dataset/nodejs\\12\\buffer1.csv\n",
      "Target dataset path: ../dataset/nodejs\\49\\buffer1.csv \n",
      "\n",
      "Wilcoxon p value: [0.19081425666809082]\n",
      "Cliff's delta: [0.3504] \n",
      "\n",
      "Output written to ../results/nodejs\\rq2.csv \n",
      "\n",
      "***********************************\n",
      "Subject system: x264\n",
      "Experiment repetition 1\n",
      "Source dataset path: ../dataset/x264\\24\\original_videos_Animation_480P_Animation_480P-087e.csv\n",
      "Target dataset path: ../dataset/x264\\39\\original_videos_Animation_480P_Animation_480P-087e.csv \n",
      "\n",
      "Experiment repetition 2\n",
      "Source dataset path: ../dataset/x264\\43\\original_videos_Animation_480P_Animation_480P-087e.csv\n",
      "Target dataset path: ../dataset/x264\\21\\original_videos_Animation_480P_Animation_480P-087e.csv \n",
      "\n",
      "Experiment repetition 3\n",
      "Source dataset path: ../dataset/x264\\24\\original_videos_Animation_480P_Animation_480P-087e.csv\n",
      "Target dataset path: ../dataset/x264\\40\\original_videos_Animation_480P_Animation_480P-087e.csv \n",
      "\n",
      "Experiment repetition 4\n",
      "Source dataset path: ../dataset/x264\\6\\original_videos_Animation_480P_Animation_480P-087e.csv\n",
      "Target dataset path: ../dataset/x264\\13\\original_videos_Animation_480P_Animation_480P-087e.csv \n",
      "\n",
      "Experiment repetition 5\n",
      "Source dataset path: ../dataset/x264\\15\\original_videos_Animation_480P_Animation_480P-087e.csv\n",
      "Target dataset path: ../dataset/x264\\3\\original_videos_Animation_480P_Animation_480P-087e.csv \n",
      "\n",
      "Experiment repetition 6\n",
      "Source dataset path: ../dataset/x264\\37\\original_videos_Animation_480P_Animation_480P-087e.csv\n",
      "Target dataset path: ../dataset/x264\\35\\original_videos_Animation_480P_Animation_480P-087e.csv \n",
      "\n",
      "Experiment repetition 7\n",
      "Source dataset path: ../dataset/x264\\6\\original_videos_Animation_480P_Animation_480P-087e.csv\n",
      "Target dataset path: ../dataset/x264\\32\\original_videos_Animation_480P_Animation_480P-087e.csv \n",
      "\n",
      "Experiment repetition 8\n",
      "Source dataset path: ../dataset/x264\\38\\original_videos_Animation_480P_Animation_480P-087e.csv\n",
      "Target dataset path: ../dataset/x264\\29\\original_videos_Animation_480P_Animation_480P-087e.csv \n",
      "\n",
      "Experiment repetition 9\n",
      "Source dataset path: ../dataset/x264\\42\\original_videos_Animation_480P_Animation_480P-087e.csv\n",
      "Target dataset path: ../dataset/x264\\22\\original_videos_Animation_480P_Animation_480P-087e.csv \n",
      "\n",
      "Experiment repetition 10\n",
      "Source dataset path: ../dataset/x264\\14\\original_videos_Animation_480P_Animation_480P-087e.csv\n",
      "Target dataset path: ../dataset/x264\\28\\original_videos_Animation_480P_Animation_480P-087e.csv \n",
      "\n",
      "Experiment repetition 11\n",
      "Source dataset path: ../dataset/x264\\26\\original_videos_Animation_480P_Animation_480P-087e.csv\n",
      "Target dataset path: ../dataset/x264\\50\\original_videos_Animation_480P_Animation_480P-087e.csv \n",
      "\n",
      "Experiment repetition 12\n",
      "Source dataset path: ../dataset/x264\\44\\original_videos_Animation_480P_Animation_480P-087e.csv\n",
      "Target dataset path: ../dataset/x264\\41\\original_videos_Animation_480P_Animation_480P-087e.csv \n",
      "\n",
      "Experiment repetition 13\n",
      "Source dataset path: ../dataset/x264\\42\\original_videos_Animation_480P_Animation_480P-087e.csv\n",
      "Target dataset path: ../dataset/x264\\23\\original_videos_Animation_480P_Animation_480P-087e.csv \n",
      "\n",
      "Experiment repetition 14\n",
      "Source dataset path: ../dataset/x264\\48\\original_videos_Animation_480P_Animation_480P-087e.csv\n",
      "Target dataset path: ../dataset/x264\\24\\original_videos_Animation_480P_Animation_480P-087e.csv \n",
      "\n",
      "Experiment repetition 15\n",
      "Source dataset path: ../dataset/x264\\18\\original_videos_Animation_480P_Animation_480P-087e.csv\n",
      "Target dataset path: ../dataset/x264\\11\\original_videos_Animation_480P_Animation_480P-087e.csv \n",
      "\n",
      "Experiment repetition 16\n",
      "Source dataset path: ../dataset/x264\\50\\original_videos_Animation_480P_Animation_480P-087e.csv\n",
      "Target dataset path: ../dataset/x264\\4\\original_videos_Animation_480P_Animation_480P-087e.csv \n",
      "\n",
      "Experiment repetition 17\n",
      "Source dataset path: ../dataset/x264\\25\\original_videos_Animation_480P_Animation_480P-087e.csv\n",
      "Target dataset path: ../dataset/x264\\35\\original_videos_Animation_480P_Animation_480P-087e.csv \n",
      "\n",
      "Experiment repetition 18\n",
      "Source dataset path: ../dataset/x264\\28\\original_videos_Animation_480P_Animation_480P-087e.csv\n",
      "Target dataset path: ../dataset/x264\\45\\original_videos_Animation_480P_Animation_480P-087e.csv \n",
      "\n",
      "Experiment repetition 19\n",
      "Source dataset path: ../dataset/x264\\20\\original_videos_Animation_480P_Animation_480P-087e.csv\n",
      "Target dataset path: ../dataset/x264\\23\\original_videos_Animation_480P_Animation_480P-087e.csv \n",
      "\n",
      "Experiment repetition 20\n",
      "Source dataset path: ../dataset/x264\\default\\original_videos_Animation_480P_Animation_480P-087e.csv\n",
      "Target dataset path: ../dataset/x264\\19\\original_videos_Animation_480P_Animation_480P-087e.csv \n",
      "\n",
      "Experiment repetition 21\n",
      "Source dataset path: ../dataset/x264\\5\\original_videos_Animation_480P_Animation_480P-087e.csv\n",
      "Target dataset path: ../dataset/x264\\22\\original_videos_Animation_480P_Animation_480P-087e.csv \n",
      "\n",
      "Experiment repetition 22\n",
      "Source dataset path: ../dataset/x264\\16\\original_videos_Animation_480P_Animation_480P-087e.csv\n",
      "Target dataset path: ../dataset/x264\\46\\original_videos_Animation_480P_Animation_480P-087e.csv \n",
      "\n",
      "Experiment repetition 23\n",
      "Source dataset path: ../dataset/x264\\30\\original_videos_Animation_480P_Animation_480P-087e.csv\n",
      "Target dataset path: ../dataset/x264\\16\\original_videos_Animation_480P_Animation_480P-087e.csv \n",
      "\n",
      "Experiment repetition 24\n",
      "Source dataset path: ../dataset/x264\\16\\original_videos_Animation_480P_Animation_480P-087e.csv\n",
      "Target dataset path: ../dataset/x264\\37\\original_videos_Animation_480P_Animation_480P-087e.csv \n",
      "\n",
      "Experiment repetition 25\n",
      "Source dataset path: ../dataset/x264\\34\\original_videos_Animation_480P_Animation_480P-087e.csv\n",
      "Target dataset path: ../dataset/x264\\45\\original_videos_Animation_480P_Animation_480P-087e.csv \n",
      "\n",
      "Wilcoxon p value: [0.7914759516716003]\n",
      "Cliff's delta: [0.0368] \n",
      "\n",
      "Output written to ../results/x264\\rq2.csv \n",
      "\n",
      "***********************************\n",
      "Subject system: xz\n",
      "Experiment repetition 1\n",
      "Source dataset path: ../dataset/xz\\23\\dickens.csv\n",
      "Target dataset path: ../dataset/xz\\20\\dickens.csv \n",
      "\n"
     ]
    },
    {
     "name": "stdout",
     "output_type": "stream",
     "text": [
      "Experiment repetition 2\n",
      "Source dataset path: ../dataset/xz\\24\\dickens.csv\n",
      "Target dataset path: ../dataset/xz\\13\\dickens.csv \n",
      "\n",
      "Experiment repetition 3\n",
      "Source dataset path: ../dataset/xz\\3\\dickens.csv\n",
      "Target dataset path: ../dataset/xz\\5\\dickens.csv \n",
      "\n",
      "Experiment repetition 4\n",
      "Source dataset path: ../dataset/xz\\8\\dickens.csv\n",
      "Target dataset path: ../dataset/xz\\7\\dickens.csv \n",
      "\n",
      "Experiment repetition 5\n",
      "Source dataset path: ../dataset/xz\\21\\dickens.csv\n",
      "Target dataset path: ../dataset/xz\\19\\dickens.csv \n",
      "\n",
      "Experiment repetition 6\n",
      "Source dataset path: ../dataset/xz\\7\\dickens.csv\n",
      "Target dataset path: ../dataset/xz\\24\\dickens.csv \n",
      "\n",
      "Experiment repetition 7\n",
      "Source dataset path: ../dataset/xz\\3\\dickens.csv\n",
      "Target dataset path: ../dataset/xz\\6\\dickens.csv \n",
      "\n",
      "Experiment repetition 8\n",
      "Source dataset path: ../dataset/xz\\16\\dickens.csv\n",
      "Target dataset path: ../dataset/xz\\30\\dickens.csv \n",
      "\n",
      "Experiment repetition 9\n",
      "Source dataset path: ../dataset/xz\\16\\dickens.csv\n",
      "Target dataset path: ../dataset/xz\\5\\dickens.csv \n",
      "\n",
      "Experiment repetition 10\n",
      "Source dataset path: ../dataset/xz\\8\\dickens.csv\n",
      "Target dataset path: ../dataset/xz\\24\\dickens.csv \n",
      "\n",
      "Experiment repetition 11\n",
      "Source dataset path: ../dataset/xz\\12\\dickens.csv\n",
      "Target dataset path: ../dataset/xz\\25\\dickens.csv \n",
      "\n",
      "Experiment repetition 12\n",
      "Source dataset path: ../dataset/xz\\26\\dickens.csv\n",
      "Target dataset path: ../dataset/xz\\18\\dickens.csv \n",
      "\n",
      "Experiment repetition 13\n",
      "Source dataset path: ../dataset/xz\\18\\dickens.csv\n",
      "Target dataset path: ../dataset/xz\\14\\dickens.csv \n",
      "\n",
      "Experiment repetition 14\n",
      "Source dataset path: ../dataset/xz\\23\\dickens.csv\n",
      "Target dataset path: ../dataset/xz\\11\\dickens.csv \n",
      "\n",
      "Experiment repetition 15\n",
      "Source dataset path: ../dataset/xz\\6\\dickens.csv\n",
      "Target dataset path: ../dataset/xz\\11\\dickens.csv \n",
      "\n",
      "Experiment repetition 16\n",
      "Source dataset path: ../dataset/xz\\17\\dickens.csv\n",
      "Target dataset path: ../dataset/xz\\24\\dickens.csv \n",
      "\n",
      "Experiment repetition 17\n",
      "Source dataset path: ../dataset/xz\\23\\dickens.csv\n",
      "Target dataset path: ../dataset/xz\\29\\dickens.csv \n",
      "\n",
      "Experiment repetition 18\n",
      "Source dataset path: ../dataset/xz\\12\\dickens.csv\n",
      "Target dataset path: ../dataset/xz\\23\\dickens.csv \n",
      "\n",
      "Experiment repetition 19\n",
      "Source dataset path: ../dataset/xz\\1\\dickens.csv\n",
      "Target dataset path: ../dataset/xz\\30\\dickens.csv \n",
      "\n",
      "Experiment repetition 20\n",
      "Source dataset path: ../dataset/xz\\19\\dickens.csv\n",
      "Target dataset path: ../dataset/xz\\21\\dickens.csv \n",
      "\n",
      "Experiment repetition 21\n",
      "Source dataset path: ../dataset/xz\\10\\dickens.csv\n",
      "Target dataset path: ../dataset/xz\\6\\dickens.csv \n",
      "\n",
      "Experiment repetition 22\n",
      "Source dataset path: ../dataset/xz\\15\\dickens.csv\n",
      "Target dataset path: ../dataset/xz\\27\\dickens.csv \n",
      "\n",
      "Experiment repetition 23\n",
      "Source dataset path: ../dataset/xz\\10\\dickens.csv\n",
      "Target dataset path: ../dataset/xz\\27\\dickens.csv \n",
      "\n",
      "Experiment repetition 24\n",
      "Source dataset path: ../dataset/xz\\15\\dickens.csv\n",
      "Target dataset path: ../dataset/xz\\30\\dickens.csv \n",
      "\n",
      "Experiment repetition 25\n",
      "Source dataset path: ../dataset/xz\\12\\dickens.csv\n",
      "Target dataset path: ../dataset/xz\\6\\dickens.csv \n",
      "\n",
      "Wilcoxon p value: [0.006129205226898193]\n",
      "Cliff's delta: [0.0816] \n",
      "\n",
      "Output written to ../results/xz\\rq2.csv \n",
      "\n"
     ]
    },
    {
     "data": {
      "text/plain": [
       "<Figure size 432x288 with 0 Axes>"
      ]
     },
     "metadata": {},
     "output_type": "display_data"
    },
    {
     "data": {
      "text/plain": [
       "<Figure size 432x288 with 0 Axes>"
      ]
     },
     "metadata": {},
     "output_type": "display_data"
    },
    {
     "data": {
      "text/plain": [
       "<Figure size 432x288 with 0 Axes>"
      ]
     },
     "metadata": {},
     "output_type": "display_data"
    },
    {
     "data": {
      "text/plain": [
       "<Figure size 432x288 with 0 Axes>"
      ]
     },
     "metadata": {},
     "output_type": "display_data"
    },
    {
     "data": {
      "text/plain": [
       "<Figure size 432x288 with 0 Axes>"
      ]
     },
     "metadata": {},
     "output_type": "display_data"
    },
    {
     "data": {
      "text/plain": [
       "<Figure size 432x288 with 0 Axes>"
      ]
     },
     "metadata": {},
     "output_type": "display_data"
    },
    {
     "data": {
      "text/plain": [
       "<Figure size 432x288 with 0 Axes>"
      ]
     },
     "metadata": {},
     "output_type": "display_data"
    },
    {
     "data": {
      "text/plain": [
       "<Figure size 432x288 with 0 Axes>"
      ]
     },
     "metadata": {},
     "output_type": "display_data"
    },
    {
     "data": {
      "text/plain": [
       "<Figure size 432x288 with 0 Axes>"
      ]
     },
     "metadata": {},
     "output_type": "display_data"
    },
    {
     "data": {
      "text/plain": [
       "<Figure size 432x288 with 0 Axes>"
      ]
     },
     "metadata": {},
     "output_type": "display_data"
    },
    {
     "data": {
      "text/plain": [
       "<Figure size 432x288 with 0 Axes>"
      ]
     },
     "metadata": {},
     "output_type": "display_data"
    },
    {
     "data": {
      "text/plain": [
       "<Figure size 432x288 with 0 Axes>"
      ]
     },
     "metadata": {},
     "output_type": "display_data"
    },
    {
     "data": {
      "text/plain": [
       "<Figure size 432x288 with 0 Axes>"
      ]
     },
     "metadata": {},
     "output_type": "display_data"
    },
    {
     "data": {
      "text/plain": [
       "<Figure size 432x288 with 0 Axes>"
      ]
     },
     "metadata": {},
     "output_type": "display_data"
    },
    {
     "data": {
      "text/plain": [
       "<Figure size 432x288 with 0 Axes>"
      ]
     },
     "metadata": {},
     "output_type": "display_data"
    },
    {
     "data": {
      "text/plain": [
       "<Figure size 432x288 with 0 Axes>"
      ]
     },
     "metadata": {},
     "output_type": "display_data"
    },
    {
     "data": {
      "text/plain": [
       "<Figure size 432x288 with 0 Axes>"
      ]
     },
     "metadata": {},
     "output_type": "display_data"
    },
    {
     "data": {
      "text/plain": [
       "<Figure size 432x288 with 0 Axes>"
      ]
     },
     "metadata": {},
     "output_type": "display_data"
    },
    {
     "data": {
      "text/plain": [
       "<Figure size 432x288 with 0 Axes>"
      ]
     },
     "metadata": {},
     "output_type": "display_data"
    },
    {
     "data": {
      "text/plain": [
       "<Figure size 432x288 with 0 Axes>"
      ]
     },
     "metadata": {},
     "output_type": "display_data"
    },
    {
     "data": {
      "text/plain": [
       "<Figure size 432x288 with 0 Axes>"
      ]
     },
     "metadata": {},
     "output_type": "display_data"
    },
    {
     "data": {
      "text/plain": [
       "<Figure size 432x288 with 0 Axes>"
      ]
     },
     "metadata": {},
     "output_type": "display_data"
    },
    {
     "data": {
      "text/plain": [
       "<Figure size 432x288 with 0 Axes>"
      ]
     },
     "metadata": {},
     "output_type": "display_data"
    },
    {
     "data": {
      "text/plain": [
       "<Figure size 432x288 with 0 Axes>"
      ]
     },
     "metadata": {},
     "output_type": "display_data"
    },
    {
     "data": {
      "text/plain": [
       "<Figure size 432x288 with 0 Axes>"
      ]
     },
     "metadata": {},
     "output_type": "display_data"
    },
    {
     "data": {
      "text/plain": [
       "<Figure size 432x288 with 0 Axes>"
      ]
     },
     "metadata": {},
     "output_type": "display_data"
    },
    {
     "data": {
      "text/plain": [
       "<Figure size 432x288 with 0 Axes>"
      ]
     },
     "metadata": {},
     "output_type": "display_data"
    },
    {
     "data": {
      "text/plain": [
       "<Figure size 432x288 with 0 Axes>"
      ]
     },
     "metadata": {},
     "output_type": "display_data"
    },
    {
     "data": {
      "text/plain": [
       "<Figure size 432x288 with 0 Axes>"
      ]
     },
     "metadata": {},
     "output_type": "display_data"
    },
    {
     "data": {
      "text/plain": [
       "<Figure size 432x288 with 0 Axes>"
      ]
     },
     "metadata": {},
     "output_type": "display_data"
    },
    {
     "data": {
      "text/plain": [
       "<Figure size 432x288 with 0 Axes>"
      ]
     },
     "metadata": {},
     "output_type": "display_data"
    },
    {
     "data": {
      "text/plain": [
       "<Figure size 432x288 with 0 Axes>"
      ]
     },
     "metadata": {},
     "output_type": "display_data"
    },
    {
     "data": {
      "text/plain": [
       "<Figure size 432x288 with 0 Axes>"
      ]
     },
     "metadata": {},
     "output_type": "display_data"
    },
    {
     "data": {
      "text/plain": [
       "<Figure size 432x288 with 0 Axes>"
      ]
     },
     "metadata": {},
     "output_type": "display_data"
    },
    {
     "data": {
      "text/plain": [
       "<Figure size 432x288 with 0 Axes>"
      ]
     },
     "metadata": {},
     "output_type": "display_data"
    },
    {
     "data": {
      "text/plain": [
       "<Figure size 432x288 with 0 Axes>"
      ]
     },
     "metadata": {},
     "output_type": "display_data"
    },
    {
     "data": {
      "text/plain": [
       "<Figure size 432x288 with 0 Axes>"
      ]
     },
     "metadata": {},
     "output_type": "display_data"
    },
    {
     "data": {
      "text/plain": [
       "<Figure size 432x288 with 0 Axes>"
      ]
     },
     "metadata": {},
     "output_type": "display_data"
    },
    {
     "data": {
      "text/plain": [
       "<Figure size 432x288 with 0 Axes>"
      ]
     },
     "metadata": {},
     "output_type": "display_data"
    },
    {
     "data": {
      "text/plain": [
       "<Figure size 432x288 with 0 Axes>"
      ]
     },
     "metadata": {},
     "output_type": "display_data"
    },
    {
     "data": {
      "text/plain": [
       "<Figure size 432x288 with 0 Axes>"
      ]
     },
     "metadata": {},
     "output_type": "display_data"
    },
    {
     "data": {
      "text/plain": [
       "<Figure size 432x288 with 0 Axes>"
      ]
     },
     "metadata": {},
     "output_type": "display_data"
    },
    {
     "data": {
      "text/plain": [
       "<Figure size 432x288 with 0 Axes>"
      ]
     },
     "metadata": {},
     "output_type": "display_data"
    },
    {
     "data": {
      "text/plain": [
       "<Figure size 432x288 with 0 Axes>"
      ]
     },
     "metadata": {},
     "output_type": "display_data"
    },
    {
     "data": {
      "text/plain": [
       "<Figure size 432x288 with 0 Axes>"
      ]
     },
     "metadata": {},
     "output_type": "display_data"
    },
    {
     "data": {
      "text/plain": [
       "<Figure size 432x288 with 0 Axes>"
      ]
     },
     "metadata": {},
     "output_type": "display_data"
    },
    {
     "data": {
      "text/plain": [
       "<Figure size 432x288 with 0 Axes>"
      ]
     },
     "metadata": {},
     "output_type": "display_data"
    },
    {
     "data": {
      "text/plain": [
       "<Figure size 432x288 with 0 Axes>"
      ]
     },
     "metadata": {},
     "output_type": "display_data"
    },
    {
     "data": {
      "text/plain": [
       "<Figure size 432x288 with 0 Axes>"
      ]
     },
     "metadata": {},
     "output_type": "display_data"
    },
    {
     "data": {
      "text/plain": [
       "<Figure size 432x288 with 0 Axes>"
      ]
     },
     "metadata": {},
     "output_type": "display_data"
    },
    {
     "data": {
      "text/plain": [
       "<Figure size 432x288 with 0 Axes>"
      ]
     },
     "metadata": {},
     "output_type": "display_data"
    },
    {
     "data": {
      "text/plain": [
       "<Figure size 432x288 with 0 Axes>"
      ]
     },
     "metadata": {},
     "output_type": "display_data"
    },
    {
     "data": {
      "text/plain": [
       "<Figure size 432x288 with 0 Axes>"
      ]
     },
     "metadata": {},
     "output_type": "display_data"
    },
    {
     "data": {
      "text/plain": [
       "<Figure size 432x288 with 0 Axes>"
      ]
     },
     "metadata": {},
     "output_type": "display_data"
    },
    {
     "data": {
      "text/plain": [
       "<Figure size 432x288 with 0 Axes>"
      ]
     },
     "metadata": {},
     "output_type": "display_data"
    },
    {
     "data": {
      "text/plain": [
       "<Figure size 432x288 with 0 Axes>"
      ]
     },
     "metadata": {},
     "output_type": "display_data"
    },
    {
     "data": {
      "text/plain": [
       "<Figure size 432x288 with 0 Axes>"
      ]
     },
     "metadata": {},
     "output_type": "display_data"
    },
    {
     "data": {
      "text/plain": [
       "<Figure size 432x288 with 0 Axes>"
      ]
     },
     "metadata": {},
     "output_type": "display_data"
    },
    {
     "data": {
      "text/plain": [
       "<Figure size 432x288 with 0 Axes>"
      ]
     },
     "metadata": {},
     "output_type": "display_data"
    },
    {
     "data": {
      "text/plain": [
       "<Figure size 432x288 with 0 Axes>"
      ]
     },
     "metadata": {},
     "output_type": "display_data"
    },
    {
     "data": {
      "text/plain": [
       "<Figure size 432x288 with 0 Axes>"
      ]
     },
     "metadata": {},
     "output_type": "display_data"
    },
    {
     "data": {
      "text/plain": [
       "<Figure size 432x288 with 0 Axes>"
      ]
     },
     "metadata": {},
     "output_type": "display_data"
    },
    {
     "data": {
      "text/plain": [
       "<Figure size 432x288 with 0 Axes>"
      ]
     },
     "metadata": {},
     "output_type": "display_data"
    },
    {
     "data": {
      "text/plain": [
       "<Figure size 432x288 with 0 Axes>"
      ]
     },
     "metadata": {},
     "output_type": "display_data"
    },
    {
     "data": {
      "text/plain": [
       "<Figure size 432x288 with 0 Axes>"
      ]
     },
     "metadata": {},
     "output_type": "display_data"
    },
    {
     "data": {
      "text/plain": [
       "<Figure size 432x288 with 0 Axes>"
      ]
     },
     "metadata": {},
     "output_type": "display_data"
    },
    {
     "data": {
      "text/plain": [
       "<Figure size 432x288 with 0 Axes>"
      ]
     },
     "metadata": {},
     "output_type": "display_data"
    },
    {
     "data": {
      "text/plain": [
       "<Figure size 432x288 with 0 Axes>"
      ]
     },
     "metadata": {},
     "output_type": "display_data"
    },
    {
     "data": {
      "text/plain": [
       "<Figure size 432x288 with 0 Axes>"
      ]
     },
     "metadata": {},
     "output_type": "display_data"
    },
    {
     "data": {
      "text/plain": [
       "<Figure size 432x288 with 0 Axes>"
      ]
     },
     "metadata": {},
     "output_type": "display_data"
    },
    {
     "data": {
      "text/plain": [
       "<Figure size 432x288 with 0 Axes>"
      ]
     },
     "metadata": {},
     "output_type": "display_data"
    },
    {
     "data": {
      "text/plain": [
       "<Figure size 432x288 with 0 Axes>"
      ]
     },
     "metadata": {},
     "output_type": "display_data"
    },
    {
     "data": {
      "text/plain": [
       "<Figure size 432x288 with 0 Axes>"
      ]
     },
     "metadata": {},
     "output_type": "display_data"
    },
    {
     "data": {
      "text/plain": [
       "<Figure size 432x288 with 0 Axes>"
      ]
     },
     "metadata": {},
     "output_type": "display_data"
    },
    {
     "data": {
      "text/plain": [
       "<Figure size 432x288 with 0 Axes>"
      ]
     },
     "metadata": {},
     "output_type": "display_data"
    },
    {
     "data": {
      "text/plain": [
       "<Figure size 432x288 with 0 Axes>"
      ]
     },
     "metadata": {},
     "output_type": "display_data"
    },
    {
     "data": {
      "text/plain": [
       "<Figure size 432x288 with 0 Axes>"
      ]
     },
     "metadata": {},
     "output_type": "display_data"
    },
    {
     "data": {
      "text/plain": [
       "<Figure size 432x288 with 0 Axes>"
      ]
     },
     "metadata": {},
     "output_type": "display_data"
    },
    {
     "data": {
      "text/plain": [
       "<Figure size 432x288 with 0 Axes>"
      ]
     },
     "metadata": {},
     "output_type": "display_data"
    },
    {
     "data": {
      "text/plain": [
       "<Figure size 432x288 with 0 Axes>"
      ]
     },
     "metadata": {},
     "output_type": "display_data"
    },
    {
     "data": {
      "text/plain": [
       "<Figure size 432x288 with 0 Axes>"
      ]
     },
     "metadata": {},
     "output_type": "display_data"
    },
    {
     "data": {
      "text/plain": [
       "<Figure size 432x288 with 0 Axes>"
      ]
     },
     "metadata": {},
     "output_type": "display_data"
    },
    {
     "data": {
      "text/plain": [
       "<Figure size 432x288 with 0 Axes>"
      ]
     },
     "metadata": {},
     "output_type": "display_data"
    },
    {
     "data": {
      "text/plain": [
       "<Figure size 432x288 with 0 Axes>"
      ]
     },
     "metadata": {},
     "output_type": "display_data"
    },
    {
     "data": {
      "text/plain": [
       "<Figure size 432x288 with 0 Axes>"
      ]
     },
     "metadata": {},
     "output_type": "display_data"
    },
    {
     "data": {
      "text/plain": [
       "<Figure size 432x288 with 0 Axes>"
      ]
     },
     "metadata": {},
     "output_type": "display_data"
    },
    {
     "data": {
      "text/plain": [
       "<Figure size 432x288 with 0 Axes>"
      ]
     },
     "metadata": {},
     "output_type": "display_data"
    },
    {
     "data": {
      "text/plain": [
       "<Figure size 432x288 with 0 Axes>"
      ]
     },
     "metadata": {},
     "output_type": "display_data"
    },
    {
     "data": {
      "text/plain": [
       "<Figure size 432x288 with 0 Axes>"
      ]
     },
     "metadata": {},
     "output_type": "display_data"
    },
    {
     "data": {
      "text/plain": [
       "<Figure size 432x288 with 0 Axes>"
      ]
     },
     "metadata": {},
     "output_type": "display_data"
    },
    {
     "data": {
      "text/plain": [
       "<Figure size 432x288 with 0 Axes>"
      ]
     },
     "metadata": {},
     "output_type": "display_data"
    },
    {
     "data": {
      "text/plain": [
       "<Figure size 432x288 with 0 Axes>"
      ]
     },
     "metadata": {},
     "output_type": "display_data"
    },
    {
     "data": {
      "text/plain": [
       "<Figure size 432x288 with 0 Axes>"
      ]
     },
     "metadata": {},
     "output_type": "display_data"
    },
    {
     "data": {
      "text/plain": [
       "<Figure size 432x288 with 0 Axes>"
      ]
     },
     "metadata": {},
     "output_type": "display_data"
    },
    {
     "data": {
      "text/plain": [
       "<Figure size 432x288 with 0 Axes>"
      ]
     },
     "metadata": {},
     "output_type": "display_data"
    },
    {
     "data": {
      "text/plain": [
       "<Figure size 432x288 with 0 Axes>"
      ]
     },
     "metadata": {},
     "output_type": "display_data"
    },
    {
     "data": {
      "text/plain": [
       "<Figure size 432x288 with 0 Axes>"
      ]
     },
     "metadata": {},
     "output_type": "display_data"
    },
    {
     "data": {
      "text/plain": [
       "<Figure size 432x288 with 0 Axes>"
      ]
     },
     "metadata": {},
     "output_type": "display_data"
    },
    {
     "data": {
      "text/plain": [
       "<Figure size 432x288 with 0 Axes>"
      ]
     },
     "metadata": {},
     "output_type": "display_data"
    },
    {
     "data": {
      "text/plain": [
       "<Figure size 432x288 with 0 Axes>"
      ]
     },
     "metadata": {},
     "output_type": "display_data"
    },
    {
     "data": {
      "text/plain": [
       "<Figure size 432x288 with 0 Axes>"
      ]
     },
     "metadata": {},
     "output_type": "display_data"
    },
    {
     "data": {
      "text/plain": [
       "<Figure size 432x288 with 0 Axes>"
      ]
     },
     "metadata": {},
     "output_type": "display_data"
    },
    {
     "data": {
      "text/plain": [
       "<Figure size 432x288 with 0 Axes>"
      ]
     },
     "metadata": {},
     "output_type": "display_data"
    },
    {
     "data": {
      "text/plain": [
       "<Figure size 432x288 with 0 Axes>"
      ]
     },
     "metadata": {},
     "output_type": "display_data"
    },
    {
     "data": {
      "text/plain": [
       "<Figure size 432x288 with 0 Axes>"
      ]
     },
     "metadata": {},
     "output_type": "display_data"
    },
    {
     "data": {
      "text/plain": [
       "<Figure size 432x288 with 0 Axes>"
      ]
     },
     "metadata": {},
     "output_type": "display_data"
    },
    {
     "data": {
      "text/plain": [
       "<Figure size 432x288 with 0 Axes>"
      ]
     },
     "metadata": {},
     "output_type": "display_data"
    },
    {
     "data": {
      "text/plain": [
       "<Figure size 432x288 with 0 Axes>"
      ]
     },
     "metadata": {},
     "output_type": "display_data"
    },
    {
     "data": {
      "text/plain": [
       "<Figure size 432x288 with 0 Axes>"
      ]
     },
     "metadata": {},
     "output_type": "display_data"
    },
    {
     "data": {
      "text/plain": [
       "<Figure size 432x288 with 0 Axes>"
      ]
     },
     "metadata": {},
     "output_type": "display_data"
    },
    {
     "data": {
      "text/plain": [
       "<Figure size 432x288 with 0 Axes>"
      ]
     },
     "metadata": {},
     "output_type": "display_data"
    },
    {
     "data": {
      "text/plain": [
       "<Figure size 432x288 with 0 Axes>"
      ]
     },
     "metadata": {},
     "output_type": "display_data"
    },
    {
     "data": {
      "text/plain": [
       "<Figure size 432x288 with 0 Axes>"
      ]
     },
     "metadata": {},
     "output_type": "display_data"
    },
    {
     "data": {
      "text/plain": [
       "<Figure size 432x288 with 0 Axes>"
      ]
     },
     "metadata": {},
     "output_type": "display_data"
    },
    {
     "data": {
      "text/plain": [
       "<Figure size 432x288 with 0 Axes>"
      ]
     },
     "metadata": {},
     "output_type": "display_data"
    },
    {
     "data": {
      "text/plain": [
       "<Figure size 432x288 with 0 Axes>"
      ]
     },
     "metadata": {},
     "output_type": "display_data"
    },
    {
     "data": {
      "text/plain": [
       "<Figure size 432x288 with 0 Axes>"
      ]
     },
     "metadata": {},
     "output_type": "display_data"
    },
    {
     "data": {
      "text/plain": [
       "<Figure size 432x288 with 0 Axes>"
      ]
     },
     "metadata": {},
     "output_type": "display_data"
    },
    {
     "data": {
      "text/plain": [
       "<Figure size 432x288 with 0 Axes>"
      ]
     },
     "metadata": {},
     "output_type": "display_data"
    },
    {
     "data": {
      "text/plain": [
       "<Figure size 432x288 with 0 Axes>"
      ]
     },
     "metadata": {},
     "output_type": "display_data"
    },
    {
     "data": {
      "text/plain": [
       "<Figure size 432x288 with 0 Axes>"
      ]
     },
     "metadata": {},
     "output_type": "display_data"
    },
    {
     "data": {
      "text/plain": [
       "<Figure size 432x288 with 0 Axes>"
      ]
     },
     "metadata": {},
     "output_type": "display_data"
    },
    {
     "data": {
      "text/plain": [
       "<Figure size 432x288 with 0 Axes>"
      ]
     },
     "metadata": {},
     "output_type": "display_data"
    },
    {
     "data": {
      "text/plain": [
       "<Figure size 432x288 with 0 Axes>"
      ]
     },
     "metadata": {},
     "output_type": "display_data"
    },
    {
     "data": {
      "text/plain": [
       "<Figure size 432x288 with 0 Axes>"
      ]
     },
     "metadata": {},
     "output_type": "display_data"
    },
    {
     "data": {
      "text/plain": [
       "<Figure size 432x288 with 0 Axes>"
      ]
     },
     "metadata": {},
     "output_type": "display_data"
    },
    {
     "data": {
      "text/plain": [
       "<Figure size 432x288 with 0 Axes>"
      ]
     },
     "metadata": {},
     "output_type": "display_data"
    },
    {
     "data": {
      "text/plain": [
       "<Figure size 432x288 with 0 Axes>"
      ]
     },
     "metadata": {},
     "output_type": "display_data"
    },
    {
     "data": {
      "text/plain": [
       "<Figure size 432x288 with 0 Axes>"
      ]
     },
     "metadata": {},
     "output_type": "display_data"
    },
    {
     "data": {
      "text/plain": [
       "<Figure size 432x288 with 0 Axes>"
      ]
     },
     "metadata": {},
     "output_type": "display_data"
    },
    {
     "data": {
      "text/plain": [
       "<Figure size 432x288 with 0 Axes>"
      ]
     },
     "metadata": {},
     "output_type": "display_data"
    },
    {
     "data": {
      "text/plain": [
       "<Figure size 432x288 with 0 Axes>"
      ]
     },
     "metadata": {},
     "output_type": "display_data"
    },
    {
     "data": {
      "text/plain": [
       "<Figure size 432x288 with 0 Axes>"
      ]
     },
     "metadata": {},
     "output_type": "display_data"
    },
    {
     "data": {
      "text/plain": [
       "<Figure size 432x288 with 0 Axes>"
      ]
     },
     "metadata": {},
     "output_type": "display_data"
    },
    {
     "data": {
      "text/plain": [
       "<Figure size 432x288 with 0 Axes>"
      ]
     },
     "metadata": {},
     "output_type": "display_data"
    },
    {
     "data": {
      "text/plain": [
       "<Figure size 432x288 with 0 Axes>"
      ]
     },
     "metadata": {},
     "output_type": "display_data"
    },
    {
     "data": {
      "text/plain": [
       "<Figure size 432x288 with 0 Axes>"
      ]
     },
     "metadata": {},
     "output_type": "display_data"
    },
    {
     "data": {
      "text/plain": [
       "<Figure size 432x288 with 0 Axes>"
      ]
     },
     "metadata": {},
     "output_type": "display_data"
    },
    {
     "data": {
      "text/plain": [
       "<Figure size 432x288 with 0 Axes>"
      ]
     },
     "metadata": {},
     "output_type": "display_data"
    },
    {
     "data": {
      "text/plain": [
       "<Figure size 432x288 with 0 Axes>"
      ]
     },
     "metadata": {},
     "output_type": "display_data"
    },
    {
     "data": {
      "text/plain": [
       "<Figure size 432x288 with 0 Axes>"
      ]
     },
     "metadata": {},
     "output_type": "display_data"
    },
    {
     "data": {
      "text/plain": [
       "<Figure size 432x288 with 0 Axes>"
      ]
     },
     "metadata": {},
     "output_type": "display_data"
    },
    {
     "data": {
      "text/plain": [
       "<Figure size 432x288 with 0 Axes>"
      ]
     },
     "metadata": {},
     "output_type": "display_data"
    },
    {
     "data": {
      "text/plain": [
       "<Figure size 432x288 with 0 Axes>"
      ]
     },
     "metadata": {},
     "output_type": "display_data"
    },
    {
     "data": {
      "text/plain": [
       "<Figure size 432x288 with 0 Axes>"
      ]
     },
     "metadata": {},
     "output_type": "display_data"
    },
    {
     "data": {
      "text/plain": [
       "<Figure size 432x288 with 0 Axes>"
      ]
     },
     "metadata": {},
     "output_type": "display_data"
    },
    {
     "data": {
      "text/plain": [
       "<Figure size 432x288 with 0 Axes>"
      ]
     },
     "metadata": {},
     "output_type": "display_data"
    },
    {
     "data": {
      "text/plain": [
       "<Figure size 432x288 with 0 Axes>"
      ]
     },
     "metadata": {},
     "output_type": "display_data"
    },
    {
     "data": {
      "text/plain": [
       "<Figure size 432x288 with 0 Axes>"
      ]
     },
     "metadata": {},
     "output_type": "display_data"
    },
    {
     "data": {
      "text/plain": [
       "<Figure size 432x288 with 0 Axes>"
      ]
     },
     "metadata": {},
     "output_type": "display_data"
    },
    {
     "data": {
      "text/plain": [
       "<Figure size 432x288 with 0 Axes>"
      ]
     },
     "metadata": {},
     "output_type": "display_data"
    },
    {
     "data": {
      "text/plain": [
       "<Figure size 432x288 with 0 Axes>"
      ]
     },
     "metadata": {},
     "output_type": "display_data"
    },
    {
     "data": {
      "text/plain": [
       "<Figure size 432x288 with 0 Axes>"
      ]
     },
     "metadata": {},
     "output_type": "display_data"
    },
    {
     "data": {
      "text/plain": [
       "<Figure size 432x288 with 0 Axes>"
      ]
     },
     "metadata": {},
     "output_type": "display_data"
    },
    {
     "data": {
      "text/plain": [
       "<Figure size 432x288 with 0 Axes>"
      ]
     },
     "metadata": {},
     "output_type": "display_data"
    },
    {
     "data": {
      "text/plain": [
       "<Figure size 432x288 with 0 Axes>"
      ]
     },
     "metadata": {},
     "output_type": "display_data"
    },
    {
     "data": {
      "text/plain": [
       "<Figure size 432x288 with 0 Axes>"
      ]
     },
     "metadata": {},
     "output_type": "display_data"
    },
    {
     "data": {
      "text/plain": [
       "<Figure size 432x288 with 0 Axes>"
      ]
     },
     "metadata": {},
     "output_type": "display_data"
    },
    {
     "data": {
      "text/plain": [
       "<Figure size 432x288 with 0 Axes>"
      ]
     },
     "metadata": {},
     "output_type": "display_data"
    },
    {
     "data": {
      "text/plain": [
       "<Figure size 432x288 with 0 Axes>"
      ]
     },
     "metadata": {},
     "output_type": "display_data"
    },
    {
     "data": {
      "text/plain": [
       "<Figure size 432x288 with 0 Axes>"
      ]
     },
     "metadata": {},
     "output_type": "display_data"
    },
    {
     "data": {
      "text/plain": [
       "<Figure size 432x288 with 0 Axes>"
      ]
     },
     "metadata": {},
     "output_type": "display_data"
    },
    {
     "data": {
      "text/plain": [
       "<Figure size 432x288 with 0 Axes>"
      ]
     },
     "metadata": {},
     "output_type": "display_data"
    },
    {
     "data": {
      "text/plain": [
       "<Figure size 432x288 with 0 Axes>"
      ]
     },
     "metadata": {},
     "output_type": "display_data"
    },
    {
     "data": {
      "text/plain": [
       "<Figure size 432x288 with 0 Axes>"
      ]
     },
     "metadata": {},
     "output_type": "display_data"
    },
    {
     "data": {
      "text/plain": [
       "<Figure size 432x288 with 0 Axes>"
      ]
     },
     "metadata": {},
     "output_type": "display_data"
    },
    {
     "data": {
      "text/plain": [
       "<Figure size 432x288 with 0 Axes>"
      ]
     },
     "metadata": {},
     "output_type": "display_data"
    },
    {
     "data": {
      "text/plain": [
       "<Figure size 432x288 with 0 Axes>"
      ]
     },
     "metadata": {},
     "output_type": "display_data"
    },
    {
     "data": {
      "text/plain": [
       "<Figure size 432x288 with 0 Axes>"
      ]
     },
     "metadata": {},
     "output_type": "display_data"
    },
    {
     "data": {
      "text/plain": [
       "<Figure size 432x288 with 0 Axes>"
      ]
     },
     "metadata": {},
     "output_type": "display_data"
    },
    {
     "data": {
      "text/plain": [
       "<Figure size 432x288 with 0 Axes>"
      ]
     },
     "metadata": {},
     "output_type": "display_data"
    },
    {
     "data": {
      "text/plain": [
       "<Figure size 432x288 with 0 Axes>"
      ]
     },
     "metadata": {},
     "output_type": "display_data"
    },
    {
     "data": {
      "text/plain": [
       "<Figure size 432x288 with 0 Axes>"
      ]
     },
     "metadata": {},
     "output_type": "display_data"
    },
    {
     "data": {
      "text/plain": [
       "<Figure size 432x288 with 0 Axes>"
      ]
     },
     "metadata": {},
     "output_type": "display_data"
    },
    {
     "data": {
      "text/plain": [
       "<Figure size 432x288 with 0 Axes>"
      ]
     },
     "metadata": {},
     "output_type": "display_data"
    },
    {
     "data": {
      "text/plain": [
       "<Figure size 432x288 with 0 Axes>"
      ]
     },
     "metadata": {},
     "output_type": "display_data"
    },
    {
     "data": {
      "text/plain": [
       "<Figure size 432x288 with 0 Axes>"
      ]
     },
     "metadata": {},
     "output_type": "display_data"
    },
    {
     "data": {
      "text/plain": [
       "<Figure size 432x288 with 0 Axes>"
      ]
     },
     "metadata": {},
     "output_type": "display_data"
    },
    {
     "data": {
      "text/plain": [
       "<Figure size 432x288 with 0 Axes>"
      ]
     },
     "metadata": {},
     "output_type": "display_data"
    },
    {
     "data": {
      "text/plain": [
       "<Figure size 432x288 with 0 Axes>"
      ]
     },
     "metadata": {},
     "output_type": "display_data"
    },
    {
     "data": {
      "text/plain": [
       "<Figure size 432x288 with 0 Axes>"
      ]
     },
     "metadata": {},
     "output_type": "display_data"
    },
    {
     "data": {
      "text/plain": [
       "<Figure size 432x288 with 0 Axes>"
      ]
     },
     "metadata": {},
     "output_type": "display_data"
    },
    {
     "data": {
      "text/plain": [
       "<Figure size 432x288 with 0 Axes>"
      ]
     },
     "metadata": {},
     "output_type": "display_data"
    },
    {
     "data": {
      "text/plain": [
       "<Figure size 432x288 with 0 Axes>"
      ]
     },
     "metadata": {},
     "output_type": "display_data"
    },
    {
     "data": {
      "text/plain": [
       "<Figure size 432x288 with 0 Axes>"
      ]
     },
     "metadata": {},
     "output_type": "display_data"
    },
    {
     "data": {
      "text/plain": [
       "<Figure size 432x288 with 0 Axes>"
      ]
     },
     "metadata": {},
     "output_type": "display_data"
    },
    {
     "data": {
      "text/plain": [
       "<Figure size 432x288 with 0 Axes>"
      ]
     },
     "metadata": {},
     "output_type": "display_data"
    },
    {
     "data": {
      "text/plain": [
       "<Figure size 432x288 with 0 Axes>"
      ]
     },
     "metadata": {},
     "output_type": "display_data"
    },
    {
     "data": {
      "text/plain": [
       "<Figure size 432x288 with 0 Axes>"
      ]
     },
     "metadata": {},
     "output_type": "display_data"
    },
    {
     "data": {
      "text/plain": [
       "<Figure size 432x288 with 0 Axes>"
      ]
     },
     "metadata": {},
     "output_type": "display_data"
    },
    {
     "data": {
      "text/plain": [
       "<Figure size 432x288 with 0 Axes>"
      ]
     },
     "metadata": {},
     "output_type": "display_data"
    },
    {
     "data": {
      "text/plain": [
       "<Figure size 432x288 with 0 Axes>"
      ]
     },
     "metadata": {},
     "output_type": "display_data"
    },
    {
     "data": {
      "text/plain": [
       "<Figure size 432x288 with 0 Axes>"
      ]
     },
     "metadata": {},
     "output_type": "display_data"
    },
    {
     "data": {
      "text/plain": [
       "<Figure size 432x288 with 0 Axes>"
      ]
     },
     "metadata": {},
     "output_type": "display_data"
    },
    {
     "data": {
      "text/plain": [
       "<Figure size 432x288 with 0 Axes>"
      ]
     },
     "metadata": {},
     "output_type": "display_data"
    },
    {
     "data": {
      "text/plain": [
       "<Figure size 432x288 with 0 Axes>"
      ]
     },
     "metadata": {},
     "output_type": "display_data"
    },
    {
     "data": {
      "text/plain": [
       "<Figure size 432x288 with 0 Axes>"
      ]
     },
     "metadata": {},
     "output_type": "display_data"
    },
    {
     "data": {
      "text/plain": [
       "<Figure size 432x288 with 0 Axes>"
      ]
     },
     "metadata": {},
     "output_type": "display_data"
    },
    {
     "data": {
      "text/plain": [
       "<Figure size 432x288 with 0 Axes>"
      ]
     },
     "metadata": {},
     "output_type": "display_data"
    },
    {
     "data": {
      "text/plain": [
       "<Figure size 432x288 with 0 Axes>"
      ]
     },
     "metadata": {},
     "output_type": "display_data"
    },
    {
     "data": {
      "text/plain": [
       "<Figure size 432x288 with 0 Axes>"
      ]
     },
     "metadata": {},
     "output_type": "display_data"
    },
    {
     "data": {
      "text/plain": [
       "<Figure size 432x288 with 0 Axes>"
      ]
     },
     "metadata": {},
     "output_type": "display_data"
    },
    {
     "data": {
      "text/plain": [
       "<Figure size 432x288 with 0 Axes>"
      ]
     },
     "metadata": {},
     "output_type": "display_data"
    },
    {
     "data": {
      "text/plain": [
       "<Figure size 432x288 with 0 Axes>"
      ]
     },
     "metadata": {},
     "output_type": "display_data"
    },
    {
     "data": {
      "text/plain": [
       "<Figure size 432x288 with 0 Axes>"
      ]
     },
     "metadata": {},
     "output_type": "display_data"
    },
    {
     "data": {
      "text/plain": [
       "<Figure size 432x288 with 0 Axes>"
      ]
     },
     "metadata": {},
     "output_type": "display_data"
    },
    {
     "data": {
      "text/plain": [
       "<Figure size 432x288 with 0 Axes>"
      ]
     },
     "metadata": {},
     "output_type": "display_data"
    },
    {
     "data": {
      "text/plain": [
       "<Figure size 432x288 with 0 Axes>"
      ]
     },
     "metadata": {},
     "output_type": "display_data"
    },
    {
     "data": {
      "text/plain": [
       "<Figure size 432x288 with 0 Axes>"
      ]
     },
     "metadata": {},
     "output_type": "display_data"
    },
    {
     "data": {
      "text/plain": [
       "<Figure size 432x288 with 0 Axes>"
      ]
     },
     "metadata": {},
     "output_type": "display_data"
    },
    {
     "data": {
      "text/plain": [
       "<Figure size 432x288 with 0 Axes>"
      ]
     },
     "metadata": {},
     "output_type": "display_data"
    },
    {
     "data": {
      "text/plain": [
       "<Figure size 432x288 with 0 Axes>"
      ]
     },
     "metadata": {},
     "output_type": "display_data"
    },
    {
     "data": {
      "text/plain": [
       "<Figure size 432x288 with 0 Axes>"
      ]
     },
     "metadata": {},
     "output_type": "display_data"
    },
    {
     "data": {
      "text/plain": [
       "<Figure size 432x288 with 0 Axes>"
      ]
     },
     "metadata": {},
     "output_type": "display_data"
    },
    {
     "data": {
      "text/plain": [
       "<Figure size 432x288 with 0 Axes>"
      ]
     },
     "metadata": {},
     "output_type": "display_data"
    },
    {
     "data": {
      "text/plain": [
       "<Figure size 432x288 with 0 Axes>"
      ]
     },
     "metadata": {},
     "output_type": "display_data"
    },
    {
     "data": {
      "text/plain": [
       "<Figure size 432x288 with 0 Axes>"
      ]
     },
     "metadata": {},
     "output_type": "display_data"
    },
    {
     "data": {
      "text/plain": [
       "<Figure size 432x288 with 0 Axes>"
      ]
     },
     "metadata": {},
     "output_type": "display_data"
    },
    {
     "data": {
      "text/plain": [
       "<Figure size 432x288 with 0 Axes>"
      ]
     },
     "metadata": {},
     "output_type": "display_data"
    },
    {
     "data": {
      "text/plain": [
       "<Figure size 432x288 with 0 Axes>"
      ]
     },
     "metadata": {},
     "output_type": "display_data"
    },
    {
     "data": {
      "text/plain": [
       "<Figure size 432x288 with 0 Axes>"
      ]
     },
     "metadata": {},
     "output_type": "display_data"
    },
    {
     "data": {
      "text/plain": [
       "<Figure size 432x288 with 0 Axes>"
      ]
     },
     "metadata": {},
     "output_type": "display_data"
    },
    {
     "data": {
      "text/plain": [
       "<Figure size 432x288 with 0 Axes>"
      ]
     },
     "metadata": {},
     "output_type": "display_data"
    },
    {
     "data": {
      "text/plain": [
       "<Figure size 432x288 with 0 Axes>"
      ]
     },
     "metadata": {},
     "output_type": "display_data"
    },
    {
     "data": {
      "text/plain": [
       "<Figure size 432x288 with 0 Axes>"
      ]
     },
     "metadata": {},
     "output_type": "display_data"
    },
    {
     "data": {
      "text/plain": [
       "<Figure size 432x288 with 0 Axes>"
      ]
     },
     "metadata": {},
     "output_type": "display_data"
    },
    {
     "data": {
      "text/plain": [
       "<Figure size 432x288 with 0 Axes>"
      ]
     },
     "metadata": {},
     "output_type": "display_data"
    },
    {
     "data": {
      "text/plain": [
       "<Figure size 432x288 with 0 Axes>"
      ]
     },
     "metadata": {},
     "output_type": "display_data"
    },
    {
     "data": {
      "text/plain": [
       "<Figure size 432x288 with 0 Axes>"
      ]
     },
     "metadata": {},
     "output_type": "display_data"
    },
    {
     "data": {
      "text/plain": [
       "<Figure size 432x288 with 0 Axes>"
      ]
     },
     "metadata": {},
     "output_type": "display_data"
    },
    {
     "data": {
      "text/plain": [
       "<Figure size 432x288 with 0 Axes>"
      ]
     },
     "metadata": {},
     "output_type": "display_data"
    },
    {
     "data": {
      "text/plain": [
       "<Figure size 432x288 with 0 Axes>"
      ]
     },
     "metadata": {},
     "output_type": "display_data"
    },
    {
     "data": {
      "text/plain": [
       "<Figure size 432x288 with 0 Axes>"
      ]
     },
     "metadata": {},
     "output_type": "display_data"
    },
    {
     "data": {
      "text/plain": [
       "<Figure size 432x288 with 0 Axes>"
      ]
     },
     "metadata": {},
     "output_type": "display_data"
    },
    {
     "data": {
      "text/plain": [
       "<Figure size 432x288 with 0 Axes>"
      ]
     },
     "metadata": {},
     "output_type": "display_data"
    },
    {
     "data": {
      "text/plain": [
       "<Figure size 432x288 with 0 Axes>"
      ]
     },
     "metadata": {},
     "output_type": "display_data"
    },
    {
     "data": {
      "text/plain": [
       "<Figure size 432x288 with 0 Axes>"
      ]
     },
     "metadata": {},
     "output_type": "display_data"
    },
    {
     "data": {
      "text/plain": [
       "<Figure size 432x288 with 0 Axes>"
      ]
     },
     "metadata": {},
     "output_type": "display_data"
    },
    {
     "data": {
      "text/plain": [
       "<Figure size 432x288 with 0 Axes>"
      ]
     },
     "metadata": {},
     "output_type": "display_data"
    },
    {
     "data": {
      "text/plain": [
       "<Figure size 432x288 with 0 Axes>"
      ]
     },
     "metadata": {},
     "output_type": "display_data"
    },
    {
     "data": {
      "text/plain": [
       "<Figure size 432x288 with 0 Axes>"
      ]
     },
     "metadata": {},
     "output_type": "display_data"
    },
    {
     "data": {
      "text/plain": [
       "<Figure size 432x288 with 0 Axes>"
      ]
     },
     "metadata": {},
     "output_type": "display_data"
    },
    {
     "data": {
      "text/plain": [
       "<Figure size 432x288 with 0 Axes>"
      ]
     },
     "metadata": {},
     "output_type": "display_data"
    },
    {
     "data": {
      "text/plain": [
       "<Figure size 432x288 with 0 Axes>"
      ]
     },
     "metadata": {},
     "output_type": "display_data"
    },
    {
     "data": {
      "text/plain": [
       "<Figure size 432x288 with 0 Axes>"
      ]
     },
     "metadata": {},
     "output_type": "display_data"
    },
    {
     "data": {
      "text/plain": [
       "<Figure size 432x288 with 0 Axes>"
      ]
     },
     "metadata": {},
     "output_type": "display_data"
    },
    {
     "data": {
      "text/plain": [
       "<Figure size 432x288 with 0 Axes>"
      ]
     },
     "metadata": {},
     "output_type": "display_data"
    },
    {
     "data": {
      "text/plain": [
       "<Figure size 432x288 with 0 Axes>"
      ]
     },
     "metadata": {},
     "output_type": "display_data"
    },
    {
     "data": {
      "text/plain": [
       "<Figure size 432x288 with 0 Axes>"
      ]
     },
     "metadata": {},
     "output_type": "display_data"
    },
    {
     "data": {
      "text/plain": [
       "<Figure size 432x288 with 0 Axes>"
      ]
     },
     "metadata": {},
     "output_type": "display_data"
    },
    {
     "data": {
      "text/plain": [
       "<Figure size 432x288 with 0 Axes>"
      ]
     },
     "metadata": {},
     "output_type": "display_data"
    },
    {
     "data": {
      "text/plain": [
       "<Figure size 432x288 with 0 Axes>"
      ]
     },
     "metadata": {},
     "output_type": "display_data"
    },
    {
     "data": {
      "text/plain": [
       "<Figure size 432x288 with 0 Axes>"
      ]
     },
     "metadata": {},
     "output_type": "display_data"
    },
    {
     "data": {
      "text/plain": [
       "<Figure size 432x288 with 0 Axes>"
      ]
     },
     "metadata": {},
     "output_type": "display_data"
    },
    {
     "data": {
      "text/plain": [
       "<Figure size 432x288 with 0 Axes>"
      ]
     },
     "metadata": {},
     "output_type": "display_data"
    },
    {
     "data": {
      "text/plain": [
       "<Figure size 432x288 with 0 Axes>"
      ]
     },
     "metadata": {},
     "output_type": "display_data"
    },
    {
     "data": {
      "text/plain": [
       "<Figure size 432x288 with 0 Axes>"
      ]
     },
     "metadata": {},
     "output_type": "display_data"
    },
    {
     "data": {
      "text/plain": [
       "<Figure size 432x288 with 0 Axes>"
      ]
     },
     "metadata": {},
     "output_type": "display_data"
    },
    {
     "data": {
      "text/plain": [
       "<Figure size 432x288 with 0 Axes>"
      ]
     },
     "metadata": {},
     "output_type": "display_data"
    },
    {
     "data": {
      "text/plain": [
       "<Figure size 432x288 with 0 Axes>"
      ]
     },
     "metadata": {},
     "output_type": "display_data"
    },
    {
     "data": {
      "text/plain": [
       "<Figure size 432x288 with 0 Axes>"
      ]
     },
     "metadata": {},
     "output_type": "display_data"
    },
    {
     "data": {
      "text/plain": [
       "<Figure size 432x288 with 0 Axes>"
      ]
     },
     "metadata": {},
     "output_type": "display_data"
    },
    {
     "data": {
      "text/plain": [
       "<Figure size 432x288 with 0 Axes>"
      ]
     },
     "metadata": {},
     "output_type": "display_data"
    },
    {
     "data": {
      "text/plain": [
       "<Figure size 432x288 with 0 Axes>"
      ]
     },
     "metadata": {},
     "output_type": "display_data"
    },
    {
     "data": {
      "text/plain": [
       "<Figure size 432x288 with 0 Axes>"
      ]
     },
     "metadata": {},
     "output_type": "display_data"
    },
    {
     "data": {
      "text/plain": [
       "<Figure size 432x288 with 0 Axes>"
      ]
     },
     "metadata": {},
     "output_type": "display_data"
    },
    {
     "data": {
      "text/plain": [
       "<Figure size 432x288 with 0 Axes>"
      ]
     },
     "metadata": {},
     "output_type": "display_data"
    },
    {
     "data": {
      "text/plain": [
       "<Figure size 432x288 with 0 Axes>"
      ]
     },
     "metadata": {},
     "output_type": "display_data"
    },
    {
     "data": {
      "text/plain": [
       "<Figure size 432x288 with 0 Axes>"
      ]
     },
     "metadata": {},
     "output_type": "display_data"
    },
    {
     "data": {
      "text/plain": [
       "<Figure size 432x288 with 0 Axes>"
      ]
     },
     "metadata": {},
     "output_type": "display_data"
    },
    {
     "data": {
      "text/plain": [
       "<Figure size 432x288 with 0 Axes>"
      ]
     },
     "metadata": {},
     "output_type": "display_data"
    },
    {
     "data": {
      "text/plain": [
       "<Figure size 432x288 with 0 Axes>"
      ]
     },
     "metadata": {},
     "output_type": "display_data"
    },
    {
     "data": {
      "text/plain": [
       "<Figure size 432x288 with 0 Axes>"
      ]
     },
     "metadata": {},
     "output_type": "display_data"
    },
    {
     "data": {
      "text/plain": [
       "<Figure size 432x288 with 0 Axes>"
      ]
     },
     "metadata": {},
     "output_type": "display_data"
    },
    {
     "data": {
      "text/plain": [
       "<Figure size 432x288 with 0 Axes>"
      ]
     },
     "metadata": {},
     "output_type": "display_data"
    },
    {
     "data": {
      "text/plain": [
       "<Figure size 432x288 with 0 Axes>"
      ]
     },
     "metadata": {},
     "output_type": "display_data"
    },
    {
     "data": {
      "text/plain": [
       "<Figure size 432x288 with 0 Axes>"
      ]
     },
     "metadata": {},
     "output_type": "display_data"
    },
    {
     "data": {
      "text/plain": [
       "<Figure size 432x288 with 0 Axes>"
      ]
     },
     "metadata": {},
     "output_type": "display_data"
    },
    {
     "data": {
      "text/plain": [
       "<Figure size 432x288 with 0 Axes>"
      ]
     },
     "metadata": {},
     "output_type": "display_data"
    },
    {
     "data": {
      "text/plain": [
       "<Figure size 432x288 with 0 Axes>"
      ]
     },
     "metadata": {},
     "output_type": "display_data"
    },
    {
     "data": {
      "text/plain": [
       "<Figure size 432x288 with 0 Axes>"
      ]
     },
     "metadata": {},
     "output_type": "display_data"
    },
    {
     "data": {
      "text/plain": [
       "<Figure size 432x288 with 0 Axes>"
      ]
     },
     "metadata": {},
     "output_type": "display_data"
    },
    {
     "data": {
      "text/plain": [
       "<Figure size 432x288 with 0 Axes>"
      ]
     },
     "metadata": {},
     "output_type": "display_data"
    },
    {
     "data": {
      "text/plain": [
       "<Figure size 432x288 with 0 Axes>"
      ]
     },
     "metadata": {},
     "output_type": "display_data"
    },
    {
     "data": {
      "text/plain": [
       "<Figure size 432x288 with 0 Axes>"
      ]
     },
     "metadata": {},
     "output_type": "display_data"
    },
    {
     "data": {
      "text/plain": [
       "<Figure size 432x288 with 0 Axes>"
      ]
     },
     "metadata": {},
     "output_type": "display_data"
    },
    {
     "data": {
      "text/plain": [
       "<Figure size 432x288 with 0 Axes>"
      ]
     },
     "metadata": {},
     "output_type": "display_data"
    },
    {
     "data": {
      "text/plain": [
       "<Figure size 432x288 with 0 Axes>"
      ]
     },
     "metadata": {},
     "output_type": "display_data"
    },
    {
     "data": {
      "text/plain": [
       "<Figure size 432x288 with 0 Axes>"
      ]
     },
     "metadata": {},
     "output_type": "display_data"
    },
    {
     "data": {
      "text/plain": [
       "<Figure size 432x288 with 0 Axes>"
      ]
     },
     "metadata": {},
     "output_type": "display_data"
    },
    {
     "data": {
      "text/plain": [
       "<Figure size 432x288 with 0 Axes>"
      ]
     },
     "metadata": {},
     "output_type": "display_data"
    },
    {
     "data": {
      "text/plain": [
       "<Figure size 432x288 with 0 Axes>"
      ]
     },
     "metadata": {},
     "output_type": "display_data"
    },
    {
     "data": {
      "text/plain": [
       "<Figure size 432x288 with 0 Axes>"
      ]
     },
     "metadata": {},
     "output_type": "display_data"
    },
    {
     "data": {
      "text/plain": [
       "<Figure size 432x288 with 0 Axes>"
      ]
     },
     "metadata": {},
     "output_type": "display_data"
    },
    {
     "data": {
      "text/plain": [
       "<Figure size 432x288 with 0 Axes>"
      ]
     },
     "metadata": {},
     "output_type": "display_data"
    },
    {
     "data": {
      "text/plain": [
       "<Figure size 432x288 with 0 Axes>"
      ]
     },
     "metadata": {},
     "output_type": "display_data"
    },
    {
     "data": {
      "text/plain": [
       "<Figure size 432x288 with 0 Axes>"
      ]
     },
     "metadata": {},
     "output_type": "display_data"
    },
    {
     "data": {
      "text/plain": [
       "<Figure size 432x288 with 0 Axes>"
      ]
     },
     "metadata": {},
     "output_type": "display_data"
    },
    {
     "data": {
      "text/plain": [
       "<Figure size 432x288 with 0 Axes>"
      ]
     },
     "metadata": {},
     "output_type": "display_data"
    },
    {
     "data": {
      "text/plain": [
       "<Figure size 432x288 with 0 Axes>"
      ]
     },
     "metadata": {},
     "output_type": "display_data"
    },
    {
     "data": {
      "image/png": "[encoded data removed]",
      "text/plain": [
       "<Figure size 432x288 with 1 Axes>"
      ]
     },
     "metadata": {
      "needs_background": "light"
     },
     "output_type": "display_data"
    },
    {
     "data": {
      "image/png": "[encoded data removed]",
      "text/plain": [
       "<Figure size 432x288 with 1 Axes>"
      ]
     },
     "metadata": {
      "needs_background": "light"
     },
     "output_type": "display_data"
    },
    {
     "data": {
      "image/png": "[encoded data removed]",
      "text/plain": [
       "<Figure size 432x288 with 1 Axes>"
      ]
     },
     "metadata": {
      "needs_background": "light"
     },
     "output_type": "display_data"
    },
    {
     "data": {
      "image/png": "[encoded data removed]",
      "text/plain": [
       "<Figure size 432x288 with 1 Axes>"
      ]
     },
     "metadata": {
      "needs_background": "light"
     },
     "output_type": "display_data"
    },
    {
     "data": {
      "image/png": "[encoded data removed]",
      "text/plain": [
       "<Figure size 432x288 with 1 Axes>"
      ]
     },
     "metadata": {
      "needs_background": "light"
     },
     "output_type": "display_data"
    },
    {
     "data": {
      "image/png": "[encoded data removed]",
      "text/plain": [
       "<Figure size 432x288 with 1 Axes>"
      ]
     },
     "metadata": {
      "needs_background": "light"
     },
     "output_type": "display_data"
    }
   ],
   "source": [
    "### RQ2\n",
    "\n",
    "transferrer = TransferLearner()\n",
    "predictor = PredictorLearner()\n",
    "\n",
    "for subject_system in SUBJECT_SYSTEMS:\n",
    "    print('***********************************\\nSubject system:', subject_system)    \n",
    "    # delete the results of previous subject system's test before entering next subject system's results\n",
    "    mape_accuracy_pred_20pct = []\n",
    "    mape_accuracy_pred_40pct = []\n",
    "    mape_accuracy_pred_60pct = []\n",
    "    mape_accuracy_pred_80pct = []\n",
    "    mape_accuracy_trans_20pct = []\n",
    "    mape_accuracy_trans_40pct = []\n",
    "    mape_accuracy_trans_60pct = []\n",
    "    mape_accuracy_trans_80pct = []\n",
    "    mse_accuracy_pred_20pct = []\n",
    "    mse_accuracy_pred_40pct = []\n",
    "    mse_accuracy_pred_60pct = []\n",
    "    mse_accuracy_pred_80pct = []\n",
    "    mse_accuracy_trans_20pct = []\n",
    "    mse_accuracy_trans_40pct = []\n",
    "    mse_accuracy_trans_60pct = []\n",
    "    mse_accuracy_trans_80pct = []\n",
    "\n",
    "    # get the randomly selected target and source datasets for the current subject system\n",
    "    subject_system_datasets = datasets[subject_system]\n",
    "\n",
    "    for rep in range(REPETITIONS):\n",
    "        print('Experiment repetition', rep+1)\n",
    "        # grab a target and source dataset for this experiment repetition\n",
    "        src_dataset, tgt_dataset = subject_system_datasets[rep]\n",
    "        print('Source dataset path:', src_dataset.get_csv_path())\n",
    "        print('Target dataset path:', tgt_dataset.get_csv_path(),'\\n')\n",
    "        \n",
    "        X_train, X_validate, y_train, y_validate = tgt_dataset.get_split_dataset()\n",
    "        optimised_pred_model = predictor.get_optimal_params(X_validate, y_validate)\n",
    "        \n",
    "        X_train, X_validate, y_train, y_validate = split_transfer_dataset(src_dataset, tgt_dataset)\n",
    "        optimised_trans_model = transferrer.get_optimal_params(X_validate, y_validate)\n",
    "\n",
    "        for train_size in TRAINING_SET_SIZES:\n",
    "            X_train, X_validate, y_train, y_validate = tgt_dataset.get_split_dataset(train_size=train_size)\n",
    "            X_train, X_validate, y_train, y_validate = split_transfer_dataset(src_dataset, \n",
    "                                                                  tgt_dataset, \n",
    "                                                                  train_size=train_size)\n",
    "\n",
    "            # get accuracy of predictor model for current training set size\n",
    "            predictor.fit(X_train, y_train, premade_model=optimised_pred_model)\n",
    "            mape_accuracy_pred = predictor.get_error(X_train, y_train, measure='mape')\n",
    "            mse_accuracy_pred = predictor.get_error(X_train, y_train, measure='mse')\n",
    "\n",
    "\n",
    "            # get accuracy of transfer model for each training set size\n",
    "            transferrer.fit(X_train, y_train, premade_model=optimised_trans_model)\n",
    "            mape_accuracy_trans = transferrer.get_error(X_train, y_train, measure='mape')\n",
    "            mse_accuracy_trans = transferrer.get_error(X_train, y_train, measure='mse')\n",
    "            make_transfer_model_scatter_plot(transferrer.get_model(), \n",
    "                                 X_train, \n",
    "                                 y_train, \n",
    "                                 2, \n",
    "                                 mape_accuracy_trans_cv[-1], \n",
    "                                 rep+1, \n",
    "                                 subject_system)\n",
    "\n",
    "\n",
    "            # record accuracy in appropriate results column\n",
    "            if train_size == 0.2:\n",
    "                mape_accuracy_pred_20pct.append(mape_accuracy_pred)\n",
    "                mape_accuracy_trans_20pct.append(mape_accuracy_trans)\n",
    "                mse_accuracy_pred_20pct.append(mse_accuracy_pred)\n",
    "                mse_accuracy_trans_20pct.append(mse_accuracy_trans)\n",
    "            elif train_size == 0.4:\n",
    "                mape_accuracy_pred_40pct.append(mape_accuracy_pred)\n",
    "                mape_accuracy_trans_40pct.append(mape_accuracy_trans)\n",
    "                mse_accuracy_pred_40pct.append(mse_accuracy_pred)\n",
    "                mse_accuracy_trans_40pct.append(mse_accuracy_trans)\n",
    "            elif train_size == 0.6:\n",
    "                mape_accuracy_pred_60pct.append(mape_accuracy_pred)\n",
    "                mape_accuracy_trans_60pct.append(mape_accuracy_trans)\n",
    "                mse_accuracy_pred_60pct.append(mse_accuracy_pred)\n",
    "                mse_accuracy_trans_60pct.append(mse_accuracy_trans)\n",
    "            elif train_size == 0.8:\n",
    "                mape_accuracy_pred_80pct.append(mape_accuracy_pred)\n",
    "                mape_accuracy_trans_80pct.append(mape_accuracy_trans)\n",
    "                mse_accuracy_pred_80pct.append(mse_accuracy_pred)\n",
    "                mse_accuracy_trans_80pct.append(mse_accuracy_trans)\n",
    "\n",
    "\n",
    "    rq2_results['mape_accuracy_pred_20pct'] = mape_accuracy_pred_20pct\n",
    "    rq2_results['mape_accuracy_pred_40pct'] = mape_accuracy_pred_40pct\n",
    "    rq2_results['mape_accuracy_pred_60pct'] = mape_accuracy_pred_60pct\n",
    "    rq2_results['mape_accuracy_pred_80pct'] = mape_accuracy_pred_80pct\n",
    "    rq2_results['mse_accuracy_pred_20pct'] = mse_accuracy_pred_20pct\n",
    "    rq2_results['mse_accuracy_pred_40pct'] = mse_accuracy_pred_40pct\n",
    "    rq2_results['mse_accuracy_pred_60pct'] = mse_accuracy_pred_60pct\n",
    "    rq2_results['mse_accuracy_pred_80pct'] = mse_accuracy_pred_80pct\n",
    "    rq2_results['mape_accuracy_trans_20pct'] = mape_accuracy_trans_20pct\n",
    "    rq2_results['mape_accuracy_trans_40pct'] = mape_accuracy_trans_40pct\n",
    "    rq2_results['mape_accuracy_trans_60pct'] = mape_accuracy_trans_60pct\n",
    "    rq2_results['mape_accuracy_trans_80pct'] = mape_accuracy_trans_80pct\n",
    "    rq2_results['mse_accuracy_trans_20pct'] = mse_accuracy_trans_20pct\n",
    "    rq2_results['mse_accuracy_trans_40pct'] = mse_accuracy_trans_40pct\n",
    "    rq2_results['mse_accuracy_trans_60pct'] = mse_accuracy_trans_60pct\n",
    "    rq2_results['mse_accuracy_trans_80pct'] = mse_accuracy_trans_80pct\n",
    "    \n",
    "    p_value = [get_wilcoxon_p_value(mape_accuracy_trans_80pct, mape_accuracy_trans_20pct)]\n",
    "    cliffs_delta = [get_cliffs_delta(mape_accuracy_trans_80pct, mape_accuracy_trans_20pct)]\n",
    "    print('Wilcoxon p value:', p_value)\n",
    "    print('Cliff\\'s delta:', cliffs_delta, '\\n')\n",
    "    \n",
    "    save_results(rq2_results, subject_system.lower(), p_value, cliffs_delta, 2)\n",
    "    \n",
    "    # reset dataframe after results are saved to csv\n",
    "    rq2_results = pd.DataFrame(columns=rq2_results.columns)\n",
    "    \n",
    "make_box_plots(2)\n",
    "write_mean_min_max(2)"
   ]
  },
  {
   "cell_type": "code",
   "execution_count": 4,
   "id": "12dea000",
   "metadata": {},
   "outputs": [
    {
     "name": "stdout",
     "output_type": "stream",
     "text": [
      "***********************************\n",
      "Subject system: nodejs\n",
      "Experiment repetition 1\n",
      "Source dataset path: ../dataset/nodejs\\31\\buffer1.csv\n",
      "Target dataset path: ../dataset/nodejs\\8\\buffer1.csv \n",
      "\n",
      "Experiment repetition 2\n",
      "Source dataset path: ../dataset/nodejs\\default\\buffer1.csv\n",
      "Target dataset path: ../dataset/nodejs\\27\\buffer1.csv \n",
      "\n",
      "Experiment repetition 3\n",
      "Source dataset path: ../dataset/nodejs\\26\\buffer1.csv\n",
      "Target dataset path: ../dataset/nodejs\\17\\buffer1.csv \n",
      "\n",
      "Experiment repetition 4\n",
      "Source dataset path: ../dataset/nodejs\\44\\buffer1.csv\n",
      "Target dataset path: ../dataset/nodejs\\18\\buffer1.csv \n",
      "\n",
      "Experiment repetition 5\n",
      "Source dataset path: ../dataset/nodejs\\49\\buffer1.csv\n",
      "Target dataset path: ../dataset/nodejs\\29\\buffer1.csv \n",
      "\n",
      "Experiment repetition 6\n",
      "Source dataset path: ../dataset/nodejs\\45\\buffer1.csv\n",
      "Target dataset path: ../dataset/nodejs\\46\\buffer1.csv \n",
      "\n",
      "Experiment repetition 7\n",
      "Source dataset path: ../dataset/nodejs\\24\\buffer1.csv\n",
      "Target dataset path: ../dataset/nodejs\\12\\buffer1.csv \n",
      "\n",
      "Experiment repetition 8\n",
      "Source dataset path: ../dataset/nodejs\\default\\buffer1.csv\n",
      "Target dataset path: ../dataset/nodejs\\48\\buffer1.csv \n",
      "\n",
      "Experiment repetition 9\n",
      "Source dataset path: ../dataset/nodejs\\28\\buffer1.csv\n",
      "Target dataset path: ../dataset/nodejs\\50\\buffer1.csv \n",
      "\n",
      "Experiment repetition 10\n",
      "Source dataset path: ../dataset/nodejs\\18\\buffer1.csv\n",
      "Target dataset path: ../dataset/nodejs\\40\\buffer1.csv \n",
      "\n",
      "Experiment repetition 11\n",
      "Source dataset path: ../dataset/nodejs\\38\\buffer1.csv\n",
      "Target dataset path: ../dataset/nodejs\\15\\buffer1.csv \n",
      "\n",
      "Experiment repetition 12\n",
      "Source dataset path: ../dataset/nodejs\\29\\buffer1.csv\n",
      "Target dataset path: ../dataset/nodejs\\40\\buffer1.csv \n",
      "\n",
      "Experiment repetition 13\n",
      "Source dataset path: ../dataset/nodejs\\35\\buffer1.csv\n",
      "Target dataset path: ../dataset/nodejs\\14\\buffer1.csv \n",
      "\n",
      "Experiment repetition 14\n",
      "Source dataset path: ../dataset/nodejs\\20\\buffer1.csv\n",
      "Target dataset path: ../dataset/nodejs\\2\\buffer1.csv \n",
      "\n",
      "Experiment repetition 15\n",
      "Source dataset path: ../dataset/nodejs\\14\\buffer1.csv\n",
      "Target dataset path: ../dataset/nodejs\\49\\buffer1.csv \n",
      "\n",
      "Experiment repetition 16\n",
      "Source dataset path: ../dataset/nodejs\\5\\buffer1.csv\n",
      "Target dataset path: ../dataset/nodejs\\40\\buffer1.csv \n",
      "\n",
      "Experiment repetition 17\n",
      "Source dataset path: ../dataset/nodejs\\23\\buffer1.csv\n",
      "Target dataset path: ../dataset/nodejs\\21\\buffer1.csv \n",
      "\n",
      "Experiment repetition 18\n",
      "Source dataset path: ../dataset/nodejs\\47\\buffer1.csv\n",
      "Target dataset path: ../dataset/nodejs\\5\\buffer1.csv \n",
      "\n",
      "Experiment repetition 19\n",
      "Source dataset path: ../dataset/nodejs\\43\\buffer1.csv\n",
      "Target dataset path: ../dataset/nodejs\\46\\buffer1.csv \n",
      "\n",
      "Experiment repetition 20\n",
      "Source dataset path: ../dataset/nodejs\\25\\buffer1.csv\n",
      "Target dataset path: ../dataset/nodejs\\16\\buffer1.csv \n",
      "\n",
      "Experiment repetition 21\n",
      "Source dataset path: ../dataset/nodejs\\12\\buffer1.csv\n",
      "Target dataset path: ../dataset/nodejs\\15\\buffer1.csv \n",
      "\n",
      "Experiment repetition 22\n",
      "Source dataset path: ../dataset/nodejs\\42\\buffer1.csv\n",
      "Target dataset path: ../dataset/nodejs\\46\\buffer1.csv \n",
      "\n",
      "Experiment repetition 23\n",
      "Source dataset path: ../dataset/nodejs\\42\\buffer1.csv\n",
      "Target dataset path: ../dataset/nodejs\\16\\buffer1.csv \n",
      "\n",
      "Experiment repetition 24\n",
      "Source dataset path: ../dataset/nodejs\\10\\buffer1.csv\n",
      "Target dataset path: ../dataset/nodejs\\20\\buffer1.csv \n",
      "\n",
      "Experiment repetition 25\n",
      "Source dataset path: ../dataset/nodejs\\12\\buffer1.csv\n",
      "Target dataset path: ../dataset/nodejs\\49\\buffer1.csv \n",
      "\n"
     ]
    },
    {
     "name": "stderr",
     "output_type": "stream",
     "text": [
      "D:\\final-year-project\\.venv\\lib\\site-packages\\scipy\\stats\\morestats.py:3141: UserWarning: Exact p-value calculation does not work if there are ties. Switching to normal approximation.\n",
      "  warnings.warn(\"Exact p-value calculation does not work if there are \"\n",
      "D:\\final-year-project\\.venv\\lib\\site-packages\\scipy\\stats\\morestats.py:3155: UserWarning: Sample size too small for normal approximation.\n",
      "  warnings.warn(\"Sample size too small for normal approximation.\")\n"
     ]
    },
    {
     "name": "stdout",
     "output_type": "stream",
     "text": [
      "Wilcoxon p value for no CV: 0.4142161782425253\n",
      "Wilcoxon p value for CV: 5.960464477539063e-08\n",
      "Cliff's delta for no CV: 0.08\n",
      "Cliff's delta for CV: 1.0 \n",
      "\n",
      "Output written to ../results/nodejs\\rq3.csv \n",
      "\n",
      "***********************************\n",
      "Subject system: x264\n",
      "Experiment repetition 1\n",
      "Source dataset path: ../dataset/x264\\24\\original_videos_Animation_480P_Animation_480P-087e.csv\n",
      "Target dataset path: ../dataset/x264\\39\\original_videos_Animation_480P_Animation_480P-087e.csv \n",
      "\n",
      "Experiment repetition 2\n",
      "Source dataset path: ../dataset/x264\\43\\original_videos_Animation_480P_Animation_480P-087e.csv\n",
      "Target dataset path: ../dataset/x264\\21\\original_videos_Animation_480P_Animation_480P-087e.csv \n",
      "\n",
      "Experiment repetition 3\n",
      "Source dataset path: ../dataset/x264\\24\\original_videos_Animation_480P_Animation_480P-087e.csv\n",
      "Target dataset path: ../dataset/x264\\40\\original_videos_Animation_480P_Animation_480P-087e.csv \n",
      "\n",
      "Experiment repetition 4\n",
      "Source dataset path: ../dataset/x264\\6\\original_videos_Animation_480P_Animation_480P-087e.csv\n",
      "Target dataset path: ../dataset/x264\\13\\original_videos_Animation_480P_Animation_480P-087e.csv \n",
      "\n",
      "Experiment repetition 5\n",
      "Source dataset path: ../dataset/x264\\15\\original_videos_Animation_480P_Animation_480P-087e.csv\n",
      "Target dataset path: ../dataset/x264\\3\\original_videos_Animation_480P_Animation_480P-087e.csv \n",
      "\n",
      "Experiment repetition 6\n",
      "Source dataset path: ../dataset/x264\\37\\original_videos_Animation_480P_Animation_480P-087e.csv\n",
      "Target dataset path: ../dataset/x264\\35\\original_videos_Animation_480P_Animation_480P-087e.csv \n",
      "\n",
      "Experiment repetition 7\n",
      "Source dataset path: ../dataset/x264\\6\\original_videos_Animation_480P_Animation_480P-087e.csv\n",
      "Target dataset path: ../dataset/x264\\32\\original_videos_Animation_480P_Animation_480P-087e.csv \n",
      "\n",
      "Experiment repetition 8\n",
      "Source dataset path: ../dataset/x264\\38\\original_videos_Animation_480P_Animation_480P-087e.csv\n",
      "Target dataset path: ../dataset/x264\\29\\original_videos_Animation_480P_Animation_480P-087e.csv \n",
      "\n",
      "Experiment repetition 9\n",
      "Source dataset path: ../dataset/x264\\42\\original_videos_Animation_480P_Animation_480P-087e.csv\n",
      "Target dataset path: ../dataset/x264\\22\\original_videos_Animation_480P_Animation_480P-087e.csv \n",
      "\n",
      "Experiment repetition 10\n",
      "Source dataset path: ../dataset/x264\\14\\original_videos_Animation_480P_Animation_480P-087e.csv\n",
      "Target dataset path: ../dataset/x264\\28\\original_videos_Animation_480P_Animation_480P-087e.csv \n",
      "\n",
      "Experiment repetition 11\n",
      "Source dataset path: ../dataset/x264\\26\\original_videos_Animation_480P_Animation_480P-087e.csv\n",
      "Target dataset path: ../dataset/x264\\50\\original_videos_Animation_480P_Animation_480P-087e.csv \n",
      "\n",
      "Experiment repetition 12\n",
      "Source dataset path: ../dataset/x264\\44\\original_videos_Animation_480P_Animation_480P-087e.csv\n",
      "Target dataset path: ../dataset/x264\\41\\original_videos_Animation_480P_Animation_480P-087e.csv \n",
      "\n",
      "Experiment repetition 13\n",
      "Source dataset path: ../dataset/x264\\42\\original_videos_Animation_480P_Animation_480P-087e.csv\n",
      "Target dataset path: ../dataset/x264\\23\\original_videos_Animation_480P_Animation_480P-087e.csv \n",
      "\n",
      "Experiment repetition 14\n",
      "Source dataset path: ../dataset/x264\\48\\original_videos_Animation_480P_Animation_480P-087e.csv\n",
      "Target dataset path: ../dataset/x264\\24\\original_videos_Animation_480P_Animation_480P-087e.csv \n",
      "\n",
      "Experiment repetition 15\n",
      "Source dataset path: ../dataset/x264\\18\\original_videos_Animation_480P_Animation_480P-087e.csv\n",
      "Target dataset path: ../dataset/x264\\11\\original_videos_Animation_480P_Animation_480P-087e.csv \n",
      "\n",
      "Experiment repetition 16\n",
      "Source dataset path: ../dataset/x264\\50\\original_videos_Animation_480P_Animation_480P-087e.csv\n",
      "Target dataset path: ../dataset/x264\\4\\original_videos_Animation_480P_Animation_480P-087e.csv \n",
      "\n",
      "Experiment repetition 17\n",
      "Source dataset path: ../dataset/x264\\25\\original_videos_Animation_480P_Animation_480P-087e.csv\n",
      "Target dataset path: ../dataset/x264\\35\\original_videos_Animation_480P_Animation_480P-087e.csv \n",
      "\n",
      "Experiment repetition 18\n",
      "Source dataset path: ../dataset/x264\\28\\original_videos_Animation_480P_Animation_480P-087e.csv\n",
      "Target dataset path: ../dataset/x264\\45\\original_videos_Animation_480P_Animation_480P-087e.csv \n",
      "\n",
      "Experiment repetition 19\n",
      "Source dataset path: ../dataset/x264\\20\\original_videos_Animation_480P_Animation_480P-087e.csv\n",
      "Target dataset path: ../dataset/x264\\23\\original_videos_Animation_480P_Animation_480P-087e.csv \n",
      "\n",
      "Experiment repetition 20\n",
      "Source dataset path: ../dataset/x264\\default\\original_videos_Animation_480P_Animation_480P-087e.csv\n",
      "Target dataset path: ../dataset/x264\\19\\original_videos_Animation_480P_Animation_480P-087e.csv \n",
      "\n",
      "Experiment repetition 21\n",
      "Source dataset path: ../dataset/x264\\5\\original_videos_Animation_480P_Animation_480P-087e.csv\n",
      "Target dataset path: ../dataset/x264\\22\\original_videos_Animation_480P_Animation_480P-087e.csv \n",
      "\n",
      "Experiment repetition 22\n",
      "Source dataset path: ../dataset/x264\\16\\original_videos_Animation_480P_Animation_480P-087e.csv\n",
      "Target dataset path: ../dataset/x264\\46\\original_videos_Animation_480P_Animation_480P-087e.csv \n",
      "\n",
      "Experiment repetition 23\n",
      "Source dataset path: ../dataset/x264\\30\\original_videos_Animation_480P_Animation_480P-087e.csv\n",
      "Target dataset path: ../dataset/x264\\16\\original_videos_Animation_480P_Animation_480P-087e.csv \n",
      "\n",
      "Experiment repetition 24\n",
      "Source dataset path: ../dataset/x264\\16\\original_videos_Animation_480P_Animation_480P-087e.csv\n",
      "Target dataset path: ../dataset/x264\\37\\original_videos_Animation_480P_Animation_480P-087e.csv \n",
      "\n",
      "Experiment repetition 25\n",
      "Source dataset path: ../dataset/x264\\34\\original_videos_Animation_480P_Animation_480P-087e.csv\n",
      "Target dataset path: ../dataset/x264\\45\\original_videos_Animation_480P_Animation_480P-087e.csv \n",
      "\n"
     ]
    },
    {
     "name": "stderr",
     "output_type": "stream",
     "text": [
      "D:\\final-year-project\\.venv\\lib\\site-packages\\scipy\\stats\\morestats.py:3141: UserWarning: Exact p-value calculation does not work if there are ties. Switching to normal approximation.\n",
      "  warnings.warn(\"Exact p-value calculation does not work if there are \"\n"
     ]
    },
    {
     "name": "stdout",
     "output_type": "stream",
     "text": [
      "Wilcoxon p value for no CV: 0.0003114909767673833\n",
      "Wilcoxon p value for CV: 5.960464477539063e-08\n",
      "Cliff's delta for no CV: 0.52\n",
      "Cliff's delta for CV: 1.0 \n",
      "\n",
      "Output written to ../results/x264\\rq3.csv \n",
      "\n",
      "***********************************\n",
      "Subject system: xz\n",
      "Experiment repetition 1\n",
      "Source dataset path: ../dataset/xz\\23\\dickens.csv\n",
      "Target dataset path: ../dataset/xz\\20\\dickens.csv \n",
      "\n",
      "Experiment repetition 2\n",
      "Source dataset path: ../dataset/xz\\24\\dickens.csv\n",
      "Target dataset path: ../dataset/xz\\13\\dickens.csv \n",
      "\n",
      "Experiment repetition 3\n",
      "Source dataset path: ../dataset/xz\\3\\dickens.csv\n",
      "Target dataset path: ../dataset/xz\\5\\dickens.csv \n",
      "\n",
      "Experiment repetition 4\n",
      "Source dataset path: ../dataset/xz\\8\\dickens.csv\n",
      "Target dataset path: ../dataset/xz\\7\\dickens.csv \n",
      "\n",
      "Experiment repetition 5\n",
      "Source dataset path: ../dataset/xz\\21\\dickens.csv\n",
      "Target dataset path: ../dataset/xz\\19\\dickens.csv \n",
      "\n",
      "Experiment repetition 6\n",
      "Source dataset path: ../dataset/xz\\7\\dickens.csv\n",
      "Target dataset path: ../dataset/xz\\24\\dickens.csv \n",
      "\n",
      "Experiment repetition 7\n",
      "Source dataset path: ../dataset/xz\\3\\dickens.csv\n",
      "Target dataset path: ../dataset/xz\\6\\dickens.csv \n",
      "\n",
      "Experiment repetition 8\n",
      "Source dataset path: ../dataset/xz\\16\\dickens.csv\n",
      "Target dataset path: ../dataset/xz\\30\\dickens.csv \n",
      "\n",
      "Experiment repetition 9\n",
      "Source dataset path: ../dataset/xz\\16\\dickens.csv\n",
      "Target dataset path: ../dataset/xz\\5\\dickens.csv \n",
      "\n",
      "Experiment repetition 10\n",
      "Source dataset path: ../dataset/xz\\8\\dickens.csv\n",
      "Target dataset path: ../dataset/xz\\24\\dickens.csv \n",
      "\n",
      "Experiment repetition 11\n",
      "Source dataset path: ../dataset/xz\\12\\dickens.csv\n",
      "Target dataset path: ../dataset/xz\\25\\dickens.csv \n",
      "\n",
      "Experiment repetition 12\n",
      "Source dataset path: ../dataset/xz\\26\\dickens.csv\n",
      "Target dataset path: ../dataset/xz\\18\\dickens.csv \n",
      "\n",
      "Experiment repetition 13\n",
      "Source dataset path: ../dataset/xz\\18\\dickens.csv\n",
      "Target dataset path: ../dataset/xz\\14\\dickens.csv \n",
      "\n",
      "Experiment repetition 14\n",
      "Source dataset path: ../dataset/xz\\23\\dickens.csv\n",
      "Target dataset path: ../dataset/xz\\11\\dickens.csv \n",
      "\n",
      "Experiment repetition 15\n",
      "Source dataset path: ../dataset/xz\\6\\dickens.csv\n",
      "Target dataset path: ../dataset/xz\\11\\dickens.csv \n",
      "\n",
      "Experiment repetition 16\n",
      "Source dataset path: ../dataset/xz\\17\\dickens.csv\n",
      "Target dataset path: ../dataset/xz\\24\\dickens.csv \n",
      "\n",
      "Experiment repetition 17\n",
      "Source dataset path: ../dataset/xz\\23\\dickens.csv\n",
      "Target dataset path: ../dataset/xz\\29\\dickens.csv \n",
      "\n",
      "Experiment repetition 18\n",
      "Source dataset path: ../dataset/xz\\12\\dickens.csv\n",
      "Target dataset path: ../dataset/xz\\23\\dickens.csv \n",
      "\n",
      "Experiment repetition 19\n",
      "Source dataset path: ../dataset/xz\\1\\dickens.csv\n",
      "Target dataset path: ../dataset/xz\\30\\dickens.csv \n",
      "\n",
      "Experiment repetition 20\n",
      "Source dataset path: ../dataset/xz\\19\\dickens.csv\n",
      "Target dataset path: ../dataset/xz\\21\\dickens.csv \n",
      "\n",
      "Experiment repetition 21\n",
      "Source dataset path: ../dataset/xz\\10\\dickens.csv\n",
      "Target dataset path: ../dataset/xz\\6\\dickens.csv \n",
      "\n",
      "Experiment repetition 22\n",
      "Source dataset path: ../dataset/xz\\15\\dickens.csv\n",
      "Target dataset path: ../dataset/xz\\27\\dickens.csv \n",
      "\n",
      "Experiment repetition 23\n",
      "Source dataset path: ../dataset/xz\\10\\dickens.csv\n",
      "Target dataset path: ../dataset/xz\\27\\dickens.csv \n",
      "\n",
      "Experiment repetition 24\n",
      "Source dataset path: ../dataset/xz\\15\\dickens.csv\n",
      "Target dataset path: ../dataset/xz\\30\\dickens.csv \n",
      "\n",
      "Experiment repetition 25\n",
      "Source dataset path: ../dataset/xz\\12\\dickens.csv\n",
      "Target dataset path: ../dataset/xz\\6\\dickens.csv \n",
      "\n"
     ]
    },
    {
     "name": "stderr",
     "output_type": "stream",
     "text": [
      "D:\\final-year-project\\.venv\\lib\\site-packages\\scipy\\stats\\morestats.py:3141: UserWarning: Exact p-value calculation does not work if there are ties. Switching to normal approximation.\n",
      "  warnings.warn(\"Exact p-value calculation does not work if there are \"\n",
      "D:\\final-year-project\\.venv\\lib\\site-packages\\scipy\\stats\\morestats.py:3155: UserWarning: Sample size too small for normal approximation.\n",
      "  warnings.warn(\"Sample size too small for normal approximation.\")\n"
     ]
    },
    {
     "name": "stdout",
     "output_type": "stream",
     "text": [
      "Wilcoxon p value for no CV: 0.6547208460185769\n",
      "Wilcoxon p value for CV: 5.960464477539063e-08\n",
      "Cliff's delta for no CV: 0.04\n",
      "Cliff's delta for CV: 1.0 \n",
      "\n",
      "Output written to ../results/xz\\rq3.csv \n",
      "\n"
     ]
    },
    {
     "data": {
      "image/png": "[encoded data removed]",
      "text/plain": [
       "<Figure size 432x288 with 1 Axes>"
      ]
     },
     "metadata": {
      "needs_background": "light"
     },
     "output_type": "display_data"
    },
    {
     "data": {
      "image/png": "[encoded data removed]",
      "text/plain": [
       "<Figure size 432x288 with 1 Axes>"
      ]
     },
     "metadata": {
      "needs_background": "light"
     },
     "output_type": "display_data"
    },
    {
     "data": {
      "image/png": "[encoded data removed]",
      "text/plain": [
       "<Figure size 432x288 with 1 Axes>"
      ]
     },
     "metadata": {
      "needs_background": "light"
     },
     "output_type": "display_data"
    },
    {
     "data": {
      "image/png": "[encoded data removed]",
      "text/plain": [
       "<Figure size 432x288 with 1 Axes>"
      ]
     },
     "metadata": {
      "needs_background": "light"
     },
     "output_type": "display_data"
    },
    {
     "data": {
      "image/png": "[encoded data removed]",
      "text/plain": [
       "<Figure size 432x288 with 1 Axes>"
      ]
     },
     "metadata": {
      "needs_background": "light"
     },
     "output_type": "display_data"
    },
    {
     "data": {
      "image/png": "[encoded data removed]",
      "text/plain": [
       "<Figure size 432x288 with 1 Axes>"
      ]
     },
     "metadata": {
      "needs_background": "light"
     },
     "output_type": "display_data"
    }
   ],
   "source": [
    "### RQ3\n",
    "\n",
    "transferrer = TransferLearner()\n",
    "predictor = PredictorLearner()\n",
    "\n",
    "for subject_system in SUBJECT_SYSTEMS:\n",
    "    print('***********************************\\nSubject system:', subject_system)\n",
    "    # delete the results of previous subject system's test before entering next subject system's results\n",
    "    training_time_pred_20pct_no_cv = []\n",
    "    training_time_pred_40pct_no_cv = []\n",
    "    training_time_pred_60pct_no_cv = []\n",
    "    training_time_pred_80pct_no_cv = []\n",
    "    training_time_pred_20pct_cv = []\n",
    "    training_time_pred_40pct_cv = []\n",
    "    training_time_pred_60pct_cv = []\n",
    "    training_time_pred_80pct_cv = []\n",
    "    training_time_trans_20pct_no_cv = []\n",
    "    training_time_trans_40pct_no_cv = []\n",
    "    training_time_trans_60pct_no_cv = []\n",
    "    training_time_trans_80pct_no_cv = []\n",
    "    training_time_trans_20pct_cv = []\n",
    "    training_time_trans_40pct_cv = []\n",
    "    training_time_trans_60pct_cv = []\n",
    "    training_time_trans_80pct_cv = []\n",
    "\n",
    "    # get the randomly selected target and source datasets for the current subject system\n",
    "    subject_system_datasets = datasets[subject_system]\n",
    "\n",
    "    for rep in range(REPETITIONS):\n",
    "        print('Experiment repetition', rep+1)\n",
    "        # grab a target and source dataset for this experiment repetition\n",
    "        src_dataset, tgt_dataset = subject_system_datasets[rep]\n",
    "        print('Source dataset path:', src_dataset.get_csv_path())\n",
    "        print('Target dataset path:', tgt_dataset.get_csv_path(),'\\n')\n",
    "        \n",
    "        X_train, X_validate, y_train, y_validate = tgt_dataset.get_split_dataset()\n",
    "        optimised_pred_model = predictor.get_optimal_params(X_validate, y_validate)\n",
    "        X_train, X_validate, y_train, y_validate = split_transfer_dataset(src_dataset, tgt_dataset)\n",
    "        optimised_trans_model = transferrer.get_optimal_params(X_validate, y_validate)\n",
    "        \n",
    "\n",
    "        for train_size in TRAINING_SET_SIZES:\n",
    "\n",
    "            X_train, X_validate, y_train, y_validate = tgt_dataset.get_split_dataset(train_size=train_size)\n",
    "            # get optimised predictor model using hyperparameter optimisation\n",
    "            predictor.fit(X_train, y_train, premade_model=optimised_pred_model)\n",
    "\n",
    "            # gather results\n",
    "            training_time_pred_no_cv = predictor.get_training_time()\n",
    "            training_time_pred_cv = predictor.get_training_time(include_optimisation_time=True)\n",
    "\n",
    "\n",
    "            X_train, X_validate, y_train, y_validate = split_transfer_dataset(src_dataset, tgt_dataset, train_size=train_size)\n",
    "            # get optimised transfer model using hyperparameter optimisation\n",
    "            transferrer.fit(X_train, y_train, premade_model=optimised_trans_model)\n",
    "\n",
    "            # gather results\n",
    "            training_time_trans_no_cv = transferrer.get_training_time()\n",
    "            training_time_trans_cv = transferrer.get_training_time(include_optimisation_time=True)\n",
    "\n",
    "\n",
    "            # record accuracy in appropriate results column\n",
    "            if train_size == 0.2:\n",
    "                training_time_pred_20pct_no_cv.append(training_time_pred_no_cv)\n",
    "                training_time_pred_20pct_cv.append(training_time_pred_cv)\n",
    "                training_time_trans_20pct_no_cv.append(training_time_trans_no_cv)\n",
    "                training_time_trans_20pct_cv.append(training_time_trans_cv)\n",
    "            elif train_size == 0.4:\n",
    "                training_time_pred_40pct_no_cv.append(training_time_pred_no_cv)\n",
    "                training_time_pred_40pct_cv.append(training_time_pred_cv)\n",
    "                training_time_trans_40pct_no_cv.append(training_time_trans_no_cv)\n",
    "                training_time_trans_40pct_cv.append(training_time_trans_cv)\n",
    "            elif train_size == 0.6:\n",
    "                training_time_pred_60pct_no_cv.append(training_time_pred_no_cv)\n",
    "                training_time_pred_60pct_cv.append(training_time_pred_cv)\n",
    "                training_time_trans_60pct_no_cv.append(training_time_trans_no_cv)\n",
    "                training_time_trans_60pct_cv.append(training_time_trans_cv)\n",
    "            elif train_size == 0.8:\n",
    "                training_time_pred_80pct_no_cv.append(training_time_pred_no_cv)\n",
    "                training_time_pred_80pct_cv.append(training_time_pred_cv)\n",
    "                training_time_trans_80pct_no_cv.append(training_time_trans_no_cv)\n",
    "                training_time_trans_80pct_cv.append(training_time_trans_cv)\n",
    "\n",
    "    rq3_results['training_time_pred_20pct_no_cv'] = training_time_pred_20pct_no_cv\n",
    "    rq3_results['training_time_pred_40pct_no_cv'] = training_time_pred_40pct_no_cv\n",
    "    rq3_results['training_time_pred_60pct_no_cv'] = training_time_pred_60pct_no_cv\n",
    "    rq3_results['training_time_pred_80pct_no_cv'] = training_time_pred_80pct_no_cv\n",
    "    rq3_results['training_time_pred_20pct_cv'] = training_time_pred_20pct_cv\n",
    "    rq3_results['training_time_pred_40pct_cv'] = training_time_pred_40pct_cv\n",
    "    rq3_results['training_time_pred_60pct_cv'] = training_time_pred_60pct_cv\n",
    "    rq3_results['training_time_pred_80pct_cv'] = training_time_pred_80pct_cv\n",
    "    rq3_results['training_time_trans_20pct_no_cv'] = training_time_trans_20pct_no_cv\n",
    "    rq3_results['training_time_trans_40pct_no_cv'] = training_time_trans_40pct_no_cv\n",
    "    rq3_results['training_time_trans_60pct_no_cv'] = training_time_trans_60pct_no_cv\n",
    "    rq3_results['training_time_trans_80pct_no_cv'] = training_time_trans_80pct_no_cv\n",
    "    rq3_results['training_time_trans_20pct_cv'] = training_time_trans_20pct_cv\n",
    "    rq3_results['training_time_trans_40pct_cv'] = training_time_trans_40pct_cv\n",
    "    rq3_results['training_time_trans_60pct_cv'] = training_time_trans_60pct_cv\n",
    "    rq3_results['training_time_trans_80pct_cv'] = training_time_trans_80pct_cv\n",
    "    \n",
    "    p_value_no_cv = get_wilcoxon_p_value(training_time_pred_80pct_no_cv, training_time_trans_80pct_no_cv)\n",
    "    p_value_cv = get_wilcoxon_p_value(training_time_pred_80pct_cv, training_time_trans_80pct_cv)\n",
    "    cliffs_delta_no_cv = get_cliffs_delta(training_time_pred_80pct_no_cv, training_time_trans_80pct_no_cv)\n",
    "    cliffs_delta_cv = get_cliffs_delta(training_time_pred_80pct_cv, training_time_trans_80pct_cv)\n",
    "    p_values = [p_value_cv, p_value_no_cv]\n",
    "    cliffs_deltas = [cliffs_delta_cv, cliffs_delta_no_cv]\n",
    "    \n",
    "    print('Wilcoxon p value for no CV:', p_value_no_cv)\n",
    "    print('Wilcoxon p value for CV:', p_value_cv)\n",
    "    print('Cliff\\'s delta for no CV:', cliffs_delta_no_cv)\n",
    "    print('Cliff\\'s delta for CV:', cliffs_delta_cv, '\\n')\n",
    "\n",
    "    save_results(rq3_results, subject_system.lower(), p_values, cliffs_deltas, 3)\n",
    "\n",
    "    # reset dataframe after results are saved to csv\n",
    "    rq3_results = pd.DataFrame(columns=rq3_results.columns)\n",
    "    \n",
    "make_box_plots(3)\n",
    "write_mean_min_max(3)"
   ]
  },
  {
   "cell_type": "code",
   "execution_count": null,
   "id": "e8e855cd",
   "metadata": {},
   "outputs": [],
   "source": []
  }
 ],
 "metadata": {
  "kernelspec": {
   "display_name": ".venv",
   "language": "python",
   "name": ".venv"
  },
  "language_info": {
   "codemirror_mode": {
    "name": "ipython",
    "version": 3
   },
   "file_extension": ".py",
   "mimetype": "text/x-python",
   "name": "python",
   "nbconvert_exporter": "python",
   "pygments_lexer": "ipython3",
   "version": "3.9.9"
  }
 },
 "nbformat": 4,
 "nbformat_minor": 5
}
