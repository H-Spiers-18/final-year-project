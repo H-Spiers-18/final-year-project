{
 "cells": [
  {
   "cell_type": "code",
   "execution_count": 1,
   "id": "f54762f2",
   "metadata": {},
   "outputs": [],
   "source": [
    "from data import Dataset, get_transfer_dataset\n",
    "from learner import PredictorLearner, TransferLearner\n",
    "import analysis as a\n",
    "\n",
    "dataset_nodejs = Dataset('../dataset/nodejs/43/buffer1.csv', 'nodejs')\n",
    "dataset_poppler = Dataset('../dataset/poppler/12/cuda.csv', 'poppler')\n",
    "dataset_x264_src = Dataset('../dataset/x264/43/original_videos_Animation_480P_Animation_480P-087e.csv', 'x264')\n",
    "dataset_x264_target = Dataset('../dataset/x264/44/original_videos_Animation_480P_Animation_480P-087e.csv', 'x264')\n",
    "dataset_xz = Dataset('../dataset/xz/23/dickens.csv', 'xz')"
   ]
  },
  {
   "cell_type": "code",
   "execution_count": 3,
   "id": "140d8ee7",
   "metadata": {},
   "outputs": [
    {
     "name": "stdout",
     "output_type": "stream",
     "text": [
      "[array([-0.13092666, -2.07240527, -0.16946128, -0.23256334, -0.33965049])]\n",
      "[array([-0.44327345, -0.5046296 , -0.380163  , -0.47154408, -0.45512598])]\n"
     ]
    }
   ],
   "source": [
    "predictor_errors = []\n",
    "transfer_errors = []\n",
    "\n",
    "predictor = PredictorLearner()\n",
    "X_train, X_validate, y_train, y_validate = dataset_x264_target.get_split_dataset()\n",
    "optimised_model, _ = predictor.get_optimal_params(X_validate, y_validate)\n",
    "predictor.fit(X_train, y_train, premade_model=optimised_model)\n",
    "predictor_errors.append(predictor.get_error(X_train, y_train))\n",
    "\n",
    "transferrer = TransferLearner()\n",
    "X_train, X_validate, y_train, y_validate = get_transfer_dataset(dataset_x264_src, dataset_x264_target)\n",
    "optimised_model, _ = transferrer.get_optimal_params(X_validate, y_validate)\n",
    "transferrer.fit(X_train, y_train, premade_model=optimised_model)\n",
    "transfer_errors.append(transferrer.get_error(X_train, y_train))\n",
    "\n",
    "print(predictor_errors)\n",
    "print(transfer_errors)"
   ]
  },
  {
   "cell_type": "code",
   "execution_count": null,
   "id": "12dea000",
   "metadata": {},
   "outputs": [],
   "source": []
  }
 ],
 "metadata": {
  "kernelspec": {
   "display_name": ".venv",
   "language": "python",
   "name": ".venv"
  },
  "language_info": {
   "codemirror_mode": {
    "name": "ipython",
    "version": 3
   },
   "file_extension": ".py",
   "mimetype": "text/x-python",
   "name": "python",
   "nbconvert_exporter": "python",
   "pygments_lexer": "ipython3",
   "version": "3.9.9"
  }
 },
 "nbformat": 4,
 "nbformat_minor": 5
}
